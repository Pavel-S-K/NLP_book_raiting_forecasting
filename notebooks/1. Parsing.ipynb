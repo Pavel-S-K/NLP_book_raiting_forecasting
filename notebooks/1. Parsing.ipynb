{
 "cells": [
  {
   "cell_type": "markdown",
   "metadata": {},
   "source": [
    "# Постановка задачи"
   ]
  },
  {
   "cell_type": "markdown",
   "metadata": {},
   "source": [
    "### Задача"
   ]
  },
  {
   "cell_type": "markdown",
   "metadata": {},
   "source": [
    "- Парсинг данных по книгам с сайта 'https://www.litres.ru/popular/' и построение модели пресказания потенциального рейтинга книги по ее текстовому описанию"
   ]
  },
  {
   "cell_type": "markdown",
   "metadata": {},
   "source": [
    "### Описание данных"
   ]
  },
  {
   "cell_type": "markdown",
   "metadata": {},
   "source": [
    "**Источник данных:** https://www.litres.ru/popular/"
   ]
  },
  {
   "cell_type": "code",
   "execution_count": 2,
   "metadata": {
    "id": "rnxFdMJIALLo"
   },
   "outputs": [],
   "source": [
    "import warnings\n",
    "warnings.filterwarnings(\"ignore\")"
   ]
  },
  {
   "cell_type": "code",
   "execution_count": 3,
   "metadata": {
    "id": "35Uti68PFugT"
   },
   "outputs": [],
   "source": [
    "import requests     \n",
    "import numpy as np   \n",
    "import pandas as pd  \n",
    "import time          "
   ]
  },
  {
   "cell_type": "code",
   "execution_count": 4,
   "metadata": {
    "id": "_k3ix86eFugY"
   },
   "outputs": [],
   "source": [
    "from fake_useragent import UserAgent"
   ]
  },
  {
   "cell_type": "code",
   "execution_count": 5,
   "metadata": {
    "id": "r3iHCGdPFugc"
   },
   "outputs": [],
   "source": [
    "from bs4 import BeautifulSoup"
   ]
  },
  {
   "cell_type": "code",
   "execution_count": 6,
   "metadata": {},
   "outputs": [],
   "source": [
    "from fake_useragent import UserAgent"
   ]
  },
  {
   "cell_type": "markdown",
   "metadata": {},
   "source": [
    "# 1. Парсинг"
   ]
  },
  {
   "cell_type": "markdown",
   "metadata": {},
   "source": [
    "## 1.1 Проверка доступа к сайту"
   ]
  },
  {
   "cell_type": "code",
   "execution_count": 6,
   "metadata": {},
   "outputs": [
    {
     "data": {
      "text/plain": [
       "<Response [200]>"
      ]
     },
     "execution_count": 6,
     "metadata": {},
     "output_type": "execute_result"
    }
   ],
   "source": [
    "page_link = 'https://www.litres.ru/popular/'\n",
    "\n",
    "response = requests.get(page_link, headers={'User-Agent': UserAgent().chrome})\n",
    "response"
   ]
  },
  {
   "cell_type": "code",
   "execution_count": 7,
   "metadata": {},
   "outputs": [
    {
     "data": {
      "text/plain": [
       "{'User-Agent': 'Mozilla/5.0 (X11; Linux x86_64) AppleWebKit/537.36 (KHTML, like Gecko) Chrome/116.0.0.0 Safari/537.36', 'Accept-Encoding': 'gzip, deflate', 'Accept': '*/*', 'Connection': 'keep-alive'}"
      ]
     },
     "execution_count": 7,
     "metadata": {},
     "output_type": "execute_result"
    }
   ],
   "source": [
    "response.request.headers"
   ]
  },
  {
   "cell_type": "markdown",
   "metadata": {},
   "source": [
    "Посмотрим адекватно ли выгрузилось содержимое"
   ]
  },
  {
   "cell_type": "code",
   "execution_count": 8,
   "metadata": {},
   "outputs": [
    {
     "name": "stdout",
     "output_type": "stream",
     "text": [
      "<!DOCTYPE html>\n",
      "<html lang=\"ru\">\n",
      " <script>\n",
      "  if(typeof window.Intl==='undefined'||typeof window.Intl.DateTimeFormat==='undefined'||typeof window.MutationObserver==='undefined'||typeof window.IntersectionObserver==='undefined'||typeof window.ResizeObserver==='undefined'){document.write('<script src=\"https://polyfill.io/v3/polyfill.min.js?features=Intl.DateTimeFormat%2CMutationObserver%2CIntersectionObserver%2CResizeObserver\"></scr'+'ipt>')}\n",
      " </script>\n",
      " <head>\n",
      "  <meta charset=\"utf-8\"/>\n",
      "  <link href=\"https://www.litres.ru/static/litres/favicon.svg\" rel=\"shortcut icon\" type=\"image/svg+xml\"/>\n",
      "  <link href=\"https://www.litres.ru/static/litres/favicon.ico\" rel=\"shortcut icon\" type=\"image/x-icon\"/>\n",
      "  <link href=\"/rss/\" rel=\"alternate\" title=\"Новые книги на Литрес\" type=\"application/rss+xml\"/>\n",
      "  <link href=\"https://www.litres.ru/static/litres/i/social/seo/icon_114x114.png?caf381\" rel=\"apple-touch-icon\"/>\n",
      "  <link href=\"https://www.litres.ru/static/litres/inc/seo/yandex-tableau-manifest.json\" rel\n"
     ]
    }
   ],
   "source": [
    "html = response.content\n",
    "soup = BeautifulSoup(html, 'html.parser')                        \n",
    "print(soup.prettify()[:1000])"
   ]
  },
  {
   "cell_type": "markdown",
   "metadata": {},
   "source": [
    "**Заключение**\n",
    "\n",
    "- Доступ к странице есть;\n",
    "- Данные выгрузились адекватно"
   ]
  },
  {
   "cell_type": "markdown",
   "metadata": {},
   "source": [
    "## 2.1 Описание парсера"
   ]
  },
  {
   "cell_type": "markdown",
   "metadata": {},
   "source": [
    "Сформируем скрипт выгрузки ссылок на книги со страницы"
   ]
  },
  {
   "cell_type": "code",
   "execution_count": 9,
   "metadata": {
    "id": "xVeWPcC2Fugh"
   },
   "outputs": [],
   "source": [
    "book_links = soup.findAll(lambda tag: tag.name == 'a' and tag.get('data-testid') == \"art__title\")\n",
    "book_links = [link.attrs['href'] for link in book_links]"
   ]
  },
  {
   "cell_type": "markdown",
   "metadata": {},
   "source": [
    "Проверим адекватна ли выгрузка"
   ]
  },
  {
   "cell_type": "code",
   "execution_count": 10,
   "metadata": {
    "colab": {
     "base_uri": "https://localhost:8080/"
    },
    "id": "R9_2SeUuFugh",
    "outputId": "79c4a798-3e24-4523-c6bf-381280432784"
   },
   "outputs": [
    {
     "name": "stdout",
     "output_type": "stream",
     "text": [
      "Всего ссылок выгружено: 36\n"
     ]
    },
    {
     "data": {
      "text/plain": [
       "['/book/tatyana-muzhickaya/teoriya-neveroyatnosti-kak-mechtat-chtoby-sbyvalos-kak-27304463/',\n",
       " '/book/luk-boden/hooponopono-drevniy-gavayskiy-metod-ispolneniya-zhelaniy-48428074/',\n",
       " '/book/ekaterina-kablukova/spasti-chudovische-70338325/?erid=LjN8K8pDB&source=art&adv_art_id=252&campaign_id=1709&promo_art_position=3&platform=web',\n",
       " '/audiobook/patrik-king/chitayte-ludey-kak-knigu-kak-analizirovat-ponimat-i-predskazyv-65834170/',\n",
       " '/book/sergey-lukyanenko/forsayt-70358980/',\n",
       " '/book/meri-li/tuman-polnoe-izdanie-70313815/',\n",
       " '/book/patrik-king/perestante-ugozhdat-ludyam-budte-assertivnym-perestante-zaboti-68002241/',\n",
       " '/book/erofey-trofimov/shatun-shag-v-neizvestnost-70336498/',\n",
       " '/book/anne-dar/rodnaya-krov-67066479/',\n",
       " '/book/mayk-omer/vnutri-ubiycy-47453330/']"
      ]
     },
     "execution_count": 10,
     "metadata": {},
     "output_type": "execute_result"
    }
   ],
   "source": [
    "print(f'Всего ссылок выгружено: {len(book_links)}')\n",
    "book_links[:10]"
   ]
  },
  {
   "cell_type": "markdown",
   "metadata": {},
   "source": [
    "Отлично, ссылки выгружаются. \n",
    "Оформим в виде функции"
   ]
  },
  {
   "cell_type": "code",
   "execution_count": 11,
   "metadata": {
    "code_folding": [],
    "id": "iwKbhgBuFugh"
   },
   "outputs": [],
   "source": [
    "def getPageLinks(page_number):\n",
    "    \"\"\"\n",
    "        Возвращает список ссылок на книги\n",
    "\n",
    "        page_number: int/string\n",
    "            номер страницы для парсинга\n",
    "\n",
    "    \"\"\"\n",
    "    # составляем ссылку на страницу поиска\n",
    "    page_link = 'https://www.litres.ru/popular/?page={}'.format(page_number)\n",
    "\n",
    "    # запрашиваем данные по ней\n",
    "    response = requests.get(page_link, headers={'User-Agent': UserAgent().chrome})\n",
    "\n",
    "    if not response.ok:\n",
    "        # если сервер нам отказал, вернем пустой лист для текущей страницы\n",
    "        return []\n",
    "\n",
    "    # получаем содержимое страницы и переводим в суп\n",
    "    html = response.content\n",
    "    soup = BeautifulSoup(html,'html.parser')\n",
    "\n",
    "    # наконец, ищем ссылки на мемы и очищаем их от ненужных тэгов\n",
    "    book_links = soup.findAll(lambda tag: tag.name == 'a' and tag.get('data-testid') == \"art__title\")\n",
    "    book_links = ['https://www.litres.ru' + link.attrs['href'] for link in book_links]\n",
    "\n",
    "    return book_links"
   ]
  },
  {
   "cell_type": "markdown",
   "metadata": {
    "id": "tapV9bsDFugi"
   },
   "source": [
    "Протестируем функцию и убедимся, что всё хорошо"
   ]
  },
  {
   "cell_type": "code",
   "execution_count": 13,
   "metadata": {
    "colab": {
     "base_uri": "https://localhost:8080/"
    },
    "id": "LQ3QNzNJFugi",
    "outputId": "000ac4fa-2164-4f61-f17f-40639fa74453"
   },
   "outputs": [
    {
     "data": {
      "text/plain": [
       "['https://www.litres.ru/book/tatyana-muzhickaya/teoriya-neveroyatnosti-kak-mechtat-chtoby-sbyvalos-kak-27304463/',\n",
       " 'https://www.litres.ru/book/luk-boden/hooponopono-drevniy-gavayskiy-metod-ispolneniya-zhelaniy-48428074/']"
      ]
     },
     "execution_count": 13,
     "metadata": {},
     "output_type": "execute_result"
    }
   ],
   "source": [
    "book_links = getPageLinks(1)\n",
    "book_links[:2]"
   ]
  },
  {
   "cell_type": "markdown",
   "metadata": {
    "id": "KlqMT1cOFugi"
   },
   "source": [
    "Отлично, функция работает"
   ]
  },
  {
   "cell_type": "markdown",
   "metadata": {},
   "source": [
    "Теперь напишем функцию выгрузки информации о книге"
   ]
  },
  {
   "cell_type": "code",
   "execution_count": 14,
   "metadata": {},
   "outputs": [],
   "source": [
    "def get_book_data(link):\n",
    "    \"\"\"\n",
    "        Возвращает очищенное число просмотров/коментариев/...\n",
    "\n",
    "        soup: объект bs4.BeautifulSoup\n",
    "            суп текущей страницы\n",
    "\n",
    "    \"\"\"\n",
    "    obj_dict = dict()\n",
    "    \n",
    "    # составляем ссылку на страницу поиска\n",
    "    page_link = link\n",
    "\n",
    "    # запрашиваем данные по ней\n",
    "    response = requests.get(page_link, headers={'User-Agent': UserAgent().chrome})\n",
    "\n",
    "    # получаем содержимое страницы и переводим в суп\n",
    "    html = response.content\n",
    "    soup = BeautifulSoup(html,'html.parser')\n",
    "    \n",
    "    try:\n",
    "        obj = soup.find(lambda tag: tag.name == 'h1' and tag.get('itemprop') == \"name\")\n",
    "        obj_dict[\"Наименование\"] = obj.text\n",
    "    except:\n",
    "        obj_dict[\"Наименование\"]=None\n",
    "        \n",
    "    try:\n",
    "        obj = soup.find(lambda tag: tag.name == 'div' and tag.get('data-testid') == \"book-short-description__wrapper\")\n",
    "        obj = obj.find(lambda tag: tag.name == 'div').text\n",
    "        obj = str(obj).replace('\\n', ' ')\n",
    "        obj_dict[\"Краткое описание\"] = obj\n",
    "    except:\n",
    "        obj_dict[\"Краткое описание\"]=None   \n",
    "     \n",
    "    try:\n",
    "        obj = soup.find(lambda tag: tag.name == 'meta' and tag.get('itemprop') == \"ratingValue\")\n",
    "        obj_dict[\"Рейтинг\"] = obj.attrs['content']\n",
    "    except:\n",
    "        obj_dict[\"Рейтинг\"] = None\n",
    "        \n",
    "    try:\n",
    "        obj = soup.find(lambda tag: tag.name == 'meta' and tag.get('itemprop') == \"ratingCount\")\n",
    "        obj_dict[\"Количество оценок\"] = obj.attrs['content']\n",
    "    except:\n",
    "        obj_dict[\"Количество оценок\"] = None\n",
    "        \n",
    "    try:\n",
    "        obj = soup.find(lambda tag: tag.name == 'div' and tag.get('data-testid') == \"book-factoids__reviews\")\n",
    "        obj = obj.find(lambda tag: tag.name == 'span').text\n",
    "        obj_dict[\"Количество отзывов\"] = obj\n",
    "    except:\n",
    "        obj_dict[\"Количество отзывов\"] = None\n",
    "        \n",
    "    try:\n",
    "        obj = soup.find(lambda tag: tag.name == 'div' and tag.get('data-analytics-id') == \"book-characteristics\")\n",
    "        obj = obj.findAll(lambda tag: tag.name == 'div' and tag.get('class') == [\"CharacteristicsBlock-module__characteristic_2SKY6\"])\n",
    "        obj = [row for row in obj if 'Дата выхода на Литрес' in row.text][0]\n",
    "        obj_dict[\"Дата публикации\"] = obj.find(lambda tag: tag.name=='span' and 'Дата выхода на Литрес' not in tag.text).text\n",
    "    except:\n",
    "        obj_dict[\"Дата публикации\"] = None\n",
    "        \n",
    "        \n",
    "    obj_dict['page_link'] = link\n",
    "\n",
    "    return obj_dict"
   ]
  },
  {
   "cell_type": "markdown",
   "metadata": {},
   "source": [
    "Проверим работоспособность функции"
   ]
  },
  {
   "cell_type": "code",
   "execution_count": 15,
   "metadata": {},
   "outputs": [
    {
     "data": {
      "text/plain": [
       "{'Наименование': 'Читайте людей как книгу. Как анализировать, понимать и предсказывать эмоции, мысли, намерения и поведение людей',\n",
       " 'Краткое описание': 'В этой книге Патрика Кинга, автора мировых бестселлеров в области навыков социальной коммуникации, рассмотрены способы, с помощью которых можно развить умение «читать» и анализировать людей, их характер, поведение, мотивацию, невысказанные намерения. Этот навык бесценен в социуме. Задача автора – научить вас получать качественную, полезную, объективную информацию о людях во время первой же встречи, чтобы вы могли выстроить модель их мыслей, ощущений и действий в контексте ситуации. Читая эту книгу, вы узнаете, как определить, что вас обманывают или пытаются вами манипулировать, как выносить суждения о личностных характеристиках и ценностях людей, наблюдая за их речью, выражениями лиц, языком тела, и даже одеждой. Кроме того, знание, как «читать» людей, усилит вашу способность к состраданию, поможет стать лучшими родителями или партнерами в романтических отношениях. И дополнительный эффект – вы станете лучше разбираться в себе!',\n",
       " 'Рейтинг': '4.2',\n",
       " 'Количество оценок': '457',\n",
       " 'Количество отзывов': '49',\n",
       " 'Дата публикации': '15 июля 2021',\n",
       " 'page_link': 'https://www.litres.ru/audiobook/patrik-king/chitayte-ludey-kak-knigu-kak-analizirovat-ponimat-i-predskazyv-65834170/'}"
      ]
     },
     "execution_count": 15,
     "metadata": {},
     "output_type": "execute_result"
    }
   ],
   "source": [
    "book_data = get_book_data('https://www.litres.ru/audiobook/patrik-king/chitayte-ludey-kak-knigu-kak-analizirovat-ponimat-i-predskazyv-65834170/')\n",
    "book_data"
   ]
  },
  {
   "cell_type": "markdown",
   "metadata": {},
   "source": [
    "Отлично, данные получены. Теперь оформим в виде Pandas DataFrame"
   ]
  },
  {
   "cell_type": "code",
   "execution_count": 16,
   "metadata": {},
   "outputs": [],
   "source": [
    "final_df = pd.DataFrame(columns=['Наименование',  'Краткое описание', 'Рейтинг', 'Количество оценок', 'Дата публикации',\n",
    "                                 'Количество отзывов', 'page_link'])\n",
    "\n",
    "final_df = final_df.append(book_data, ignore_index=True).dropna(axis = 1)"
   ]
  },
  {
   "cell_type": "code",
   "execution_count": 17,
   "metadata": {},
   "outputs": [
    {
     "data": {
      "text/html": [
       "<div>\n",
       "<style scoped>\n",
       "    .dataframe tbody tr th:only-of-type {\n",
       "        vertical-align: middle;\n",
       "    }\n",
       "\n",
       "    .dataframe tbody tr th {\n",
       "        vertical-align: top;\n",
       "    }\n",
       "\n",
       "    .dataframe thead th {\n",
       "        text-align: right;\n",
       "    }\n",
       "</style>\n",
       "<table border=\"1\" class=\"dataframe\">\n",
       "  <thead>\n",
       "    <tr style=\"text-align: right;\">\n",
       "      <th></th>\n",
       "      <th>Наименование</th>\n",
       "      <th>Краткое описание</th>\n",
       "      <th>Рейтинг</th>\n",
       "      <th>Количество оценок</th>\n",
       "      <th>Дата публикации</th>\n",
       "      <th>Количество отзывов</th>\n",
       "      <th>page_link</th>\n",
       "    </tr>\n",
       "  </thead>\n",
       "  <tbody>\n",
       "    <tr>\n",
       "      <th>0</th>\n",
       "      <td>Читайте людей как книгу. Как анализировать, по...</td>\n",
       "      <td>В этой книге Патрика Кинга, автора мировых бес...</td>\n",
       "      <td>4.2</td>\n",
       "      <td>457</td>\n",
       "      <td>15 июля 2021</td>\n",
       "      <td>49</td>\n",
       "      <td>https://www.litres.ru/audiobook/patrik-king/ch...</td>\n",
       "    </tr>\n",
       "  </tbody>\n",
       "</table>\n",
       "</div>"
      ],
      "text/plain": [
       "                                        Наименование  \\\n",
       "0  Читайте людей как книгу. Как анализировать, по...   \n",
       "\n",
       "                                    Краткое описание Рейтинг  \\\n",
       "0  В этой книге Патрика Кинга, автора мировых бес...     4.2   \n",
       "\n",
       "  Количество оценок Дата публикации Количество отзывов  \\\n",
       "0               457    15 июля 2021                 49   \n",
       "\n",
       "                                           page_link  \n",
       "0  https://www.litres.ru/audiobook/patrik-king/ch...  "
      ]
     },
     "execution_count": 17,
     "metadata": {},
     "output_type": "execute_result"
    }
   ],
   "source": [
    "final_df"
   ]
  },
  {
   "cell_type": "markdown",
   "metadata": {},
   "source": [
    "Теперь выгрузим интересующую нас информацию о книгах:\n",
    "   - Выгрузку будем производить с 1 по 40 страницы;\n",
    "   - Каждую страницу будем сохранять в отдельном pandas.Dataframe на ПК в формате .pkl на случай обрыва связи."
   ]
  },
  {
   "cell_type": "code",
   "execution_count": null,
   "metadata": {},
   "outputs": [],
   "source": [
    "from tqdm import tqdm_notebook\n",
    "\n",
    "for page_number in tqdm_notebook(range(1, 41), desc='Pages'):\n",
    "    final_df = pd.DataFrame(columns=['Наименование',  'Краткое описание', 'Рейтинг', 'Количество оценок', 'Дата публикации',\n",
    "                                 'Количество отзывов', 'page_link'])\n",
    "    # Выгружаем все ссылки на книги со страницы\n",
    "    book_links = getPageLinks(page_number)\n",
    "    for book_links in tqdm_notebook(book_links, desc='Books', leave=False):\n",
    "        # Делаем три попытки выгрузить данные.\n",
    "        for i in range(3):\n",
    "            try:\n",
    "    \n",
    "                data_row = get_book_data(book_links)\n",
    "                final_df = final_df.append(data_row, ignore_index=True)\n",
    "                \n",
    "                # если всё получилось - выходим из внутреннего цикла\n",
    "                break\n",
    "            except:\n",
    "                # Иначе, пробуем еще несколько раз, пока не закончатся попытки\n",
    "                print('AHTUNG! parsing once again:', book_links)\n",
    "                continue\n",
    "            time.sleep(0.5)\n",
    "    final_df.to_pickle(f'../data/parsing/df_page_{page_number}')"
   ]
  },
  {
   "cell_type": "markdown",
   "metadata": {},
   "source": [
    "Проверим данные, которые мы спарсили"
   ]
  },
  {
   "cell_type": "code",
   "execution_count": 7,
   "metadata": {},
   "outputs": [],
   "source": [
    "df=pd.DataFrame()\n",
    "for page in range(41):\n",
    "    df = pd.concat([df, pd.read_pickle(f'../data/parsing/df_page_{page}')], ignore_index=True)"
   ]
  },
  {
   "cell_type": "code",
   "execution_count": 8,
   "metadata": {},
   "outputs": [
    {
     "data": {
      "text/html": [
       "<div>\n",
       "<style scoped>\n",
       "    .dataframe tbody tr th:only-of-type {\n",
       "        vertical-align: middle;\n",
       "    }\n",
       "\n",
       "    .dataframe tbody tr th {\n",
       "        vertical-align: top;\n",
       "    }\n",
       "\n",
       "    .dataframe thead th {\n",
       "        text-align: right;\n",
       "    }\n",
       "</style>\n",
       "<table border=\"1\" class=\"dataframe\">\n",
       "  <thead>\n",
       "    <tr style=\"text-align: right;\">\n",
       "      <th></th>\n",
       "      <th>Наименование</th>\n",
       "      <th>Краткое описание</th>\n",
       "      <th>Рейтинг</th>\n",
       "      <th>Количество оценок</th>\n",
       "      <th>Дата публикации</th>\n",
       "      <th>Количество отзывов</th>\n",
       "      <th>page_link</th>\n",
       "    </tr>\n",
       "  </thead>\n",
       "  <tbody>\n",
       "    <tr>\n",
       "      <th>0</th>\n",
       "      <td>Теория невероятности. Как мечтать, чтобы сбыва...</td>\n",
       "      <td>Никакой магии. Только здравый смысл, психологи...</td>\n",
       "      <td>4.8</td>\n",
       "      <td>1541</td>\n",
       "      <td>16 февраля 2019</td>\n",
       "      <td>269</td>\n",
       "      <td>https://www.litres.ru/book/tatyana-muzhickaya/...</td>\n",
       "    </tr>\n",
       "    <tr>\n",
       "      <th>1</th>\n",
       "      <td>Читайте людей как книгу. Как анализировать, по...</td>\n",
       "      <td>В этой книге Патрика Кинга, автора мировых бес...</td>\n",
       "      <td>4.2</td>\n",
       "      <td>456</td>\n",
       "      <td>15 июля 2021</td>\n",
       "      <td>49</td>\n",
       "      <td>https://www.litres.ru/audiobook/patrik-king/ch...</td>\n",
       "    </tr>\n",
       "    <tr>\n",
       "      <th>2</th>\n",
       "      <td>Спасти чудовище</td>\n",
       "      <td>Нищая швея и граф, чье лицо изуродовано войной...</td>\n",
       "      <td>4.9</td>\n",
       "      <td>466</td>\n",
       "      <td>14 февраля 2024</td>\n",
       "      <td>112</td>\n",
       "      <td>https://www.litres.ru/book/ekaterina-kablukova...</td>\n",
       "    </tr>\n",
       "    <tr>\n",
       "      <th>3</th>\n",
       "      <td>Форсайт</td>\n",
       "      <td>Людям порой снится прошлое. Иногда хорошее, ин...</td>\n",
       "      <td>4.5</td>\n",
       "      <td>165</td>\n",
       "      <td>21 февраля 2024</td>\n",
       "      <td>23</td>\n",
       "      <td>https://www.litres.ru/book/sergey-lukyanenko/f...</td>\n",
       "    </tr>\n",
       "    <tr>\n",
       "      <th>4</th>\n",
       "      <td>Перестаньте угождать людям. Будьте ассертивным...</td>\n",
       "      <td>Угодничество не зря называют болезнью. Оно мож...</td>\n",
       "      <td>4.3</td>\n",
       "      <td>160</td>\n",
       "      <td>08 сентября 2022</td>\n",
       "      <td>32</td>\n",
       "      <td>https://www.litres.ru/book/patrik-king/peresta...</td>\n",
       "    </tr>\n",
       "  </tbody>\n",
       "</table>\n",
       "</div>"
      ],
      "text/plain": [
       "                                        Наименование  \\\n",
       "0  Теория невероятности. Как мечтать, чтобы сбыва...   \n",
       "1  Читайте людей как книгу. Как анализировать, по...   \n",
       "2                                    Спасти чудовище   \n",
       "3                                            Форсайт   \n",
       "4  Перестаньте угождать людям. Будьте ассертивным...   \n",
       "\n",
       "                                    Краткое описание Рейтинг  \\\n",
       "0  Никакой магии. Только здравый смысл, психологи...     4.8   \n",
       "1  В этой книге Патрика Кинга, автора мировых бес...     4.2   \n",
       "2  Нищая швея и граф, чье лицо изуродовано войной...     4.9   \n",
       "3  Людям порой снится прошлое. Иногда хорошее, ин...     4.5   \n",
       "4  Угодничество не зря называют болезнью. Оно мож...     4.3   \n",
       "\n",
       "  Количество оценок   Дата публикации Количество отзывов  \\\n",
       "0              1541   16 февраля 2019                269   \n",
       "1               456      15 июля 2021                 49   \n",
       "2               466   14 февраля 2024                112   \n",
       "3               165   21 февраля 2024                 23   \n",
       "4               160  08 сентября 2022                 32   \n",
       "\n",
       "                                           page_link  \n",
       "0  https://www.litres.ru/book/tatyana-muzhickaya/...  \n",
       "1  https://www.litres.ru/audiobook/patrik-king/ch...  \n",
       "2  https://www.litres.ru/book/ekaterina-kablukova...  \n",
       "3  https://www.litres.ru/book/sergey-lukyanenko/f...  \n",
       "4  https://www.litres.ru/book/patrik-king/peresta...  "
      ]
     },
     "execution_count": 8,
     "metadata": {},
     "output_type": "execute_result"
    }
   ],
   "source": [
    "df.head()"
   ]
  }
 ],
 "metadata": {
  "colab": {
   "provenance": []
  },
  "kernelspec": {
   "display_name": "Python 3 (ipykernel)",
   "language": "python",
   "name": "python3"
  },
  "language_info": {
   "codemirror_mode": {
    "name": "ipython",
    "version": 3
   },
   "file_extension": ".py",
   "mimetype": "text/x-python",
   "name": "python",
   "nbconvert_exporter": "python",
   "pygments_lexer": "ipython3",
   "version": "3.10.5"
  },
  "varInspector": {
   "cols": {
    "lenName": 16,
    "lenType": 16,
    "lenVar": 40
   },
   "kernels_config": {
    "python": {
     "delete_cmd_postfix": "",
     "delete_cmd_prefix": "del ",
     "library": "var_list.py",
     "varRefreshCmd": "print(var_dic_list())"
    },
    "r": {
     "delete_cmd_postfix": ") ",
     "delete_cmd_prefix": "rm(",
     "library": "var_list.r",
     "varRefreshCmd": "cat(var_dic_list()) "
    }
   },
   "types_to_exclude": [
    "module",
    "function",
    "builtin_function_or_method",
    "instance",
    "_Feature"
   ],
   "window_display": false
  },
  "widgets": {
   "application/vnd.jupyter.widget-state+json": {
    "09cfb4b502814b4b81fdf93a837660ec": {
     "model_module": "@jupyter-widgets/controls",
     "model_module_version": "1.5.0",
     "model_name": "HBoxModel",
     "state": {
      "_dom_classes": [],
      "_model_module": "@jupyter-widgets/controls",
      "_model_module_version": "1.5.0",
      "_model_name": "HBoxModel",
      "_view_count": null,
      "_view_module": "@jupyter-widgets/controls",
      "_view_module_version": "1.5.0",
      "_view_name": "HBoxView",
      "box_style": "",
      "children": [
       "IPY_MODEL_ea9baf580f604208affdd0d051e34dd9",
       "IPY_MODEL_de4ef222413c405b8cb7d755eedc2150",
       "IPY_MODEL_256e77199e824cee94fba85b8fd00bf5"
      ],
      "layout": "IPY_MODEL_d9616528fee546ea8a3d066b953e5172"
     }
    },
    "256e77199e824cee94fba85b8fd00bf5": {
     "model_module": "@jupyter-widgets/controls",
     "model_module_version": "1.5.0",
     "model_name": "HTMLModel",
     "state": {
      "_dom_classes": [],
      "_model_module": "@jupyter-widgets/controls",
      "_model_module_version": "1.5.0",
      "_model_name": "HTMLModel",
      "_view_count": null,
      "_view_module": "@jupyter-widgets/controls",
      "_view_module_version": "1.5.0",
      "_view_name": "HTMLView",
      "description": "",
      "description_tooltip": null,
      "layout": "IPY_MODEL_89ebbe461ea84679acf11a58582fe51c",
      "placeholder": "​",
      "style": "IPY_MODEL_db0b1417eef04360b0f340be80bebe77",
      "value": " 16/16 [00:00&lt;00:00, 26.44it/s]"
     }
    },
    "5f4261b7a8eb46b7b21b4a1c2f909350": {
     "model_module": "@jupyter-widgets/controls",
     "model_module_version": "1.5.0",
     "model_name": "DescriptionStyleModel",
     "state": {
      "_model_module": "@jupyter-widgets/controls",
      "_model_module_version": "1.5.0",
      "_model_name": "DescriptionStyleModel",
      "_view_count": null,
      "_view_module": "@jupyter-widgets/base",
      "_view_module_version": "1.2.0",
      "_view_name": "StyleView",
      "description_width": ""
     }
    },
    "88e5a274dca146ee8025b32104f69d8b": {
     "model_module": "@jupyter-widgets/base",
     "model_module_version": "1.2.0",
     "model_name": "LayoutModel",
     "state": {
      "_model_module": "@jupyter-widgets/base",
      "_model_module_version": "1.2.0",
      "_model_name": "LayoutModel",
      "_view_count": null,
      "_view_module": "@jupyter-widgets/base",
      "_view_module_version": "1.2.0",
      "_view_name": "LayoutView",
      "align_content": null,
      "align_items": null,
      "align_self": null,
      "border": null,
      "bottom": null,
      "display": null,
      "flex": null,
      "flex_flow": null,
      "grid_area": null,
      "grid_auto_columns": null,
      "grid_auto_flow": null,
      "grid_auto_rows": null,
      "grid_column": null,
      "grid_gap": null,
      "grid_row": null,
      "grid_template_areas": null,
      "grid_template_columns": null,
      "grid_template_rows": null,
      "height": null,
      "justify_content": null,
      "justify_items": null,
      "left": null,
      "margin": null,
      "max_height": null,
      "max_width": null,
      "min_height": null,
      "min_width": null,
      "object_fit": null,
      "object_position": null,
      "order": null,
      "overflow": null,
      "overflow_x": null,
      "overflow_y": null,
      "padding": null,
      "right": null,
      "top": null,
      "visibility": null,
      "width": null
     }
    },
    "89ebbe461ea84679acf11a58582fe51c": {
     "model_module": "@jupyter-widgets/base",
     "model_module_version": "1.2.0",
     "model_name": "LayoutModel",
     "state": {
      "_model_module": "@jupyter-widgets/base",
      "_model_module_version": "1.2.0",
      "_model_name": "LayoutModel",
      "_view_count": null,
      "_view_module": "@jupyter-widgets/base",
      "_view_module_version": "1.2.0",
      "_view_name": "LayoutView",
      "align_content": null,
      "align_items": null,
      "align_self": null,
      "border": null,
      "bottom": null,
      "display": null,
      "flex": null,
      "flex_flow": null,
      "grid_area": null,
      "grid_auto_columns": null,
      "grid_auto_flow": null,
      "grid_auto_rows": null,
      "grid_column": null,
      "grid_gap": null,
      "grid_row": null,
      "grid_template_areas": null,
      "grid_template_columns": null,
      "grid_template_rows": null,
      "height": null,
      "justify_content": null,
      "justify_items": null,
      "left": null,
      "margin": null,
      "max_height": null,
      "max_width": null,
      "min_height": null,
      "min_width": null,
      "object_fit": null,
      "object_position": null,
      "order": null,
      "overflow": null,
      "overflow_x": null,
      "overflow_y": null,
      "padding": null,
      "right": null,
      "top": null,
      "visibility": null,
      "width": null
     }
    },
    "c79984b3b0a842efb76b3b7ad841484e": {
     "model_module": "@jupyter-widgets/controls",
     "model_module_version": "1.5.0",
     "model_name": "ProgressStyleModel",
     "state": {
      "_model_module": "@jupyter-widgets/controls",
      "_model_module_version": "1.5.0",
      "_model_name": "ProgressStyleModel",
      "_view_count": null,
      "_view_module": "@jupyter-widgets/base",
      "_view_module_version": "1.2.0",
      "_view_name": "StyleView",
      "bar_color": null,
      "description_width": ""
     }
    },
    "d9616528fee546ea8a3d066b953e5172": {
     "model_module": "@jupyter-widgets/base",
     "model_module_version": "1.2.0",
     "model_name": "LayoutModel",
     "state": {
      "_model_module": "@jupyter-widgets/base",
      "_model_module_version": "1.2.0",
      "_model_name": "LayoutModel",
      "_view_count": null,
      "_view_module": "@jupyter-widgets/base",
      "_view_module_version": "1.2.0",
      "_view_name": "LayoutView",
      "align_content": null,
      "align_items": null,
      "align_self": null,
      "border": null,
      "bottom": null,
      "display": null,
      "flex": null,
      "flex_flow": null,
      "grid_area": null,
      "grid_auto_columns": null,
      "grid_auto_flow": null,
      "grid_auto_rows": null,
      "grid_column": null,
      "grid_gap": null,
      "grid_row": null,
      "grid_template_areas": null,
      "grid_template_columns": null,
      "grid_template_rows": null,
      "height": null,
      "justify_content": null,
      "justify_items": null,
      "left": null,
      "margin": null,
      "max_height": null,
      "max_width": null,
      "min_height": null,
      "min_width": null,
      "object_fit": null,
      "object_position": null,
      "order": null,
      "overflow": null,
      "overflow_x": null,
      "overflow_y": null,
      "padding": null,
      "right": null,
      "top": null,
      "visibility": null,
      "width": null
     }
    },
    "db0b1417eef04360b0f340be80bebe77": {
     "model_module": "@jupyter-widgets/controls",
     "model_module_version": "1.5.0",
     "model_name": "DescriptionStyleModel",
     "state": {
      "_model_module": "@jupyter-widgets/controls",
      "_model_module_version": "1.5.0",
      "_model_name": "DescriptionStyleModel",
      "_view_count": null,
      "_view_module": "@jupyter-widgets/base",
      "_view_module_version": "1.2.0",
      "_view_name": "StyleView",
      "description_width": ""
     }
    },
    "de4ef222413c405b8cb7d755eedc2150": {
     "model_module": "@jupyter-widgets/controls",
     "model_module_version": "1.5.0",
     "model_name": "FloatProgressModel",
     "state": {
      "_dom_classes": [],
      "_model_module": "@jupyter-widgets/controls",
      "_model_module_version": "1.5.0",
      "_model_name": "FloatProgressModel",
      "_view_count": null,
      "_view_module": "@jupyter-widgets/controls",
      "_view_module_version": "1.5.0",
      "_view_name": "ProgressView",
      "bar_style": "success",
      "description": "",
      "description_tooltip": null,
      "layout": "IPY_MODEL_88e5a274dca146ee8025b32104f69d8b",
      "max": 16,
      "min": 0,
      "orientation": "horizontal",
      "style": "IPY_MODEL_c79984b3b0a842efb76b3b7ad841484e",
      "value": 16
     }
    },
    "ea9baf580f604208affdd0d051e34dd9": {
     "model_module": "@jupyter-widgets/controls",
     "model_module_version": "1.5.0",
     "model_name": "HTMLModel",
     "state": {
      "_dom_classes": [],
      "_model_module": "@jupyter-widgets/controls",
      "_model_module_version": "1.5.0",
      "_model_name": "HTMLModel",
      "_view_count": null,
      "_view_module": "@jupyter-widgets/controls",
      "_view_module_version": "1.5.0",
      "_view_name": "HTMLView",
      "description": "",
      "description_tooltip": null,
      "layout": "IPY_MODEL_f1880de7dbc34a6381681fb40e909f60",
      "placeholder": "​",
      "style": "IPY_MODEL_5f4261b7a8eb46b7b21b4a1c2f909350",
      "value": "100%"
     }
    },
    "f1880de7dbc34a6381681fb40e909f60": {
     "model_module": "@jupyter-widgets/base",
     "model_module_version": "1.2.0",
     "model_name": "LayoutModel",
     "state": {
      "_model_module": "@jupyter-widgets/base",
      "_model_module_version": "1.2.0",
      "_model_name": "LayoutModel",
      "_view_count": null,
      "_view_module": "@jupyter-widgets/base",
      "_view_module_version": "1.2.0",
      "_view_name": "LayoutView",
      "align_content": null,
      "align_items": null,
      "align_self": null,
      "border": null,
      "bottom": null,
      "display": null,
      "flex": null,
      "flex_flow": null,
      "grid_area": null,
      "grid_auto_columns": null,
      "grid_auto_flow": null,
      "grid_auto_rows": null,
      "grid_column": null,
      "grid_gap": null,
      "grid_row": null,
      "grid_template_areas": null,
      "grid_template_columns": null,
      "grid_template_rows": null,
      "height": null,
      "justify_content": null,
      "justify_items": null,
      "left": null,
      "margin": null,
      "max_height": null,
      "max_width": null,
      "min_height": null,
      "min_width": null,
      "object_fit": null,
      "object_position": null,
      "order": null,
      "overflow": null,
      "overflow_x": null,
      "overflow_y": null,
      "padding": null,
      "right": null,
      "top": null,
      "visibility": null,
      "width": null
     }
    }
   }
  }
 },
 "nbformat": 4,
 "nbformat_minor": 1
}
