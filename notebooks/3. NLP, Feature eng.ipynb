{
 "cells": [
  {
   "cell_type": "markdown",
   "metadata": {},
   "source": [
    "# Постановка задачи"
   ]
  },
  {
   "cell_type": "markdown",
   "metadata": {},
   "source": [
    "### Задача"
   ]
  },
  {
   "cell_type": "markdown",
   "metadata": {},
   "source": [
    "- Парсинг данных по книгам с сайта 'https://www.litres.ru/popular/' и построение модели пресказания потенциального рейтинга книги по ее текстовому описанию"
   ]
  },
  {
   "cell_type": "markdown",
   "metadata": {},
   "source": [
    "# 3. NLP"
   ]
  },
  {
   "cell_type": "code",
   "execution_count": 1,
   "metadata": {},
   "outputs": [
    {
     "name": "stdout",
     "output_type": "stream",
     "text": [
      "Requirement already satisfied: pymorphy2 in c:\\users\\kps\\appdata\\local\\programs\\python\\python310\\lib\\site-packages (0.9.1)\n",
      "Requirement already satisfied: dawg-python>=0.7.1 in c:\\users\\kps\\appdata\\local\\programs\\python\\python310\\lib\\site-packages (from pymorphy2) (0.7.2)\n",
      "Requirement already satisfied: docopt>=0.6 in c:\\users\\kps\\appdata\\local\\programs\\python\\python310\\lib\\site-packages (from pymorphy2) (0.6.2)\n",
      "Requirement already satisfied: pymorphy2-dicts-ru<3.0,>=2.4 in c:\\users\\kps\\appdata\\local\\programs\\python\\python310\\lib\\site-packages (from pymorphy2) (2.4.417127.4579844)\n",
      "\n",
      "[notice] A new release of pip available: 22.1.2 -> 24.3.1\n",
      "[notice] To update, run: python.exe -m pip install --upgrade pip\n"
     ]
    }
   ],
   "source": [
    "%matplotlib inline\n",
    "! pip install pymorphy2\n",
    "import matplotlib.pyplot as plt\n",
    "import numpy as np\n",
    "import pandas as pd\n",
    "import json\n",
    "from tqdm import tqdm\n",
    "from sklearn.metrics import *\n",
    "import warnings\n",
    "warnings.filterwarnings(\"ignore\")"
   ]
  },
  {
   "cell_type": "code",
   "execution_count": 2,
   "metadata": {},
   "outputs": [],
   "source": [
    "import nltk   # Natural Language Toolkit"
   ]
  },
  {
   "cell_type": "markdown",
   "metadata": {},
   "source": [
    "## 3.1 Загрузим данные"
   ]
  },
  {
   "cell_type": "markdown",
   "metadata": {},
   "source": [
    "Загрузим наши обработанные данные"
   ]
  },
  {
   "cell_type": "code",
   "execution_count": 3,
   "metadata": {},
   "outputs": [
    {
     "data": {
      "text/html": [
       "<div>\n",
       "<style scoped>\n",
       "    .dataframe tbody tr th:only-of-type {\n",
       "        vertical-align: middle;\n",
       "    }\n",
       "\n",
       "    .dataframe tbody tr th {\n",
       "        vertical-align: top;\n",
       "    }\n",
       "\n",
       "    .dataframe thead th {\n",
       "        text-align: right;\n",
       "    }\n",
       "</style>\n",
       "<table border=\"1\" class=\"dataframe\">\n",
       "  <thead>\n",
       "    <tr style=\"text-align: right;\">\n",
       "      <th></th>\n",
       "      <th>Наименование</th>\n",
       "      <th>Краткое описание</th>\n",
       "      <th>Рейтинг</th>\n",
       "      <th>Количество оценок</th>\n",
       "      <th>Дата публикации</th>\n",
       "      <th>Количество отзывов</th>\n",
       "      <th>page_link</th>\n",
       "      <th>new_raiting</th>\n",
       "    </tr>\n",
       "  </thead>\n",
       "  <tbody>\n",
       "    <tr>\n",
       "      <th>0</th>\n",
       "      <td>Теория невероятности. Как мечтать, чтобы сбыва...</td>\n",
       "      <td>Никакой магии. Только здравый смысл, психологи...</td>\n",
       "      <td>4.8</td>\n",
       "      <td>1541.0</td>\n",
       "      <td>2019-02-16</td>\n",
       "      <td>269.0</td>\n",
       "      <td>https://www.litres.ru/book/tatyana-muzhickaya/...</td>\n",
       "      <td>2.113456</td>\n",
       "    </tr>\n",
       "    <tr>\n",
       "      <th>1</th>\n",
       "      <td>Читайте людей как книгу. Как анализировать, по...</td>\n",
       "      <td>В этой книге Патрика Кинга, автора мировых бес...</td>\n",
       "      <td>4.2</td>\n",
       "      <td>456.0</td>\n",
       "      <td>2021-07-15</td>\n",
       "      <td>49.0</td>\n",
       "      <td>https://www.litres.ru/audiobook/patrik-king/ch...</td>\n",
       "      <td>1.709554</td>\n",
       "    </tr>\n",
       "    <tr>\n",
       "      <th>4</th>\n",
       "      <td>Перестаньте угождать людям. Будьте ассертивным...</td>\n",
       "      <td>Угодничество не зря называют болезнью. Оно мож...</td>\n",
       "      <td>4.3</td>\n",
       "      <td>160.0</td>\n",
       "      <td>2022-09-08</td>\n",
       "      <td>32.0</td>\n",
       "      <td>https://www.litres.ru/book/patrik-king/peresta...</td>\n",
       "      <td>1.646717</td>\n",
       "    </tr>\n",
       "    <tr>\n",
       "      <th>6</th>\n",
       "      <td>Родная кровь</td>\n",
       "      <td>В глубине штата Мэн, на берегу залива Атлантич...</td>\n",
       "      <td>4.8</td>\n",
       "      <td>8923.0</td>\n",
       "      <td>2022-01-12</td>\n",
       "      <td>639.0</td>\n",
       "      <td>https://www.litres.ru/book/anne-dar/rodnaya-kr...</td>\n",
       "      <td>3.392183</td>\n",
       "    </tr>\n",
       "    <tr>\n",
       "      <th>7</th>\n",
       "      <td>Внутри убийцы</td>\n",
       "      <td>Чтобы поймать убийцу, нужно смотреть глазами у...</td>\n",
       "      <td>4.7</td>\n",
       "      <td>20230.0</td>\n",
       "      <td>2019-11-05</td>\n",
       "      <td>18000.0</td>\n",
       "      <td>https://www.litres.ru/book/mayk-omer/vnutri-ub...</td>\n",
       "      <td>3.410362</td>\n",
       "    </tr>\n",
       "  </tbody>\n",
       "</table>\n",
       "</div>"
      ],
      "text/plain": [
       "                                        Наименование  \\\n",
       "0  Теория невероятности. Как мечтать, чтобы сбыва...   \n",
       "1  Читайте людей как книгу. Как анализировать, по...   \n",
       "4  Перестаньте угождать людям. Будьте ассертивным...   \n",
       "6                                       Родная кровь   \n",
       "7                                      Внутри убийцы   \n",
       "\n",
       "                                    Краткое описание  Рейтинг  \\\n",
       "0  Никакой магии. Только здравый смысл, психологи...      4.8   \n",
       "1  В этой книге Патрика Кинга, автора мировых бес...      4.2   \n",
       "4  Угодничество не зря называют болезнью. Оно мож...      4.3   \n",
       "6  В глубине штата Мэн, на берегу залива Атлантич...      4.8   \n",
       "7  Чтобы поймать убийцу, нужно смотреть глазами у...      4.7   \n",
       "\n",
       "   Количество оценок Дата публикации  Количество отзывов  \\\n",
       "0             1541.0      2019-02-16               269.0   \n",
       "1              456.0      2021-07-15                49.0   \n",
       "4              160.0      2022-09-08                32.0   \n",
       "6             8923.0      2022-01-12               639.0   \n",
       "7            20230.0      2019-11-05             18000.0   \n",
       "\n",
       "                                           page_link  new_raiting  \n",
       "0  https://www.litres.ru/book/tatyana-muzhickaya/...     2.113456  \n",
       "1  https://www.litres.ru/audiobook/patrik-king/ch...     1.709554  \n",
       "4  https://www.litres.ru/book/patrik-king/peresta...     1.646717  \n",
       "6  https://www.litres.ru/book/anne-dar/rodnaya-kr...     3.392183  \n",
       "7  https://www.litres.ru/book/mayk-omer/vnutri-ub...     3.410362  "
      ]
     },
     "metadata": {},
     "output_type": "display_data"
    },
    {
     "name": "stdout",
     "output_type": "stream",
     "text": [
      "<class 'pandas.core.frame.DataFrame'>\n",
      "Int64Index: 1152 entries, 0 to 1372\n",
      "Data columns (total 8 columns):\n",
      " #   Column              Non-Null Count  Dtype         \n",
      "---  ------              --------------  -----         \n",
      " 0   Наименование        1152 non-null   object        \n",
      " 1   Краткое описание    1152 non-null   object        \n",
      " 2   Рейтинг             1152 non-null   float64       \n",
      " 3   Количество оценок   1152 non-null   float64       \n",
      " 4   Дата публикации     1152 non-null   datetime64[ns]\n",
      " 5   Количество отзывов  1152 non-null   float64       \n",
      " 6   page_link           1152 non-null   object        \n",
      " 7   new_raiting         1152 non-null   float64       \n",
      "dtypes: datetime64[ns](1), float64(4), object(3)\n",
      "memory usage: 81.0+ KB\n"
     ]
    },
    {
     "data": {
      "text/plain": [
       "None"
      ]
     },
     "metadata": {},
     "output_type": "display_data"
    }
   ],
   "source": [
    "df = pd.read_pickle('../data/df_prepeared.pkl')\n",
    "display(df.head())\n",
    "display(df.info())"
   ]
  },
  {
   "cell_type": "markdown",
   "metadata": {},
   "source": [
    "Отлично данные загружены, форматы подходят к обработке"
   ]
  },
  {
   "cell_type": "markdown",
   "metadata": {},
   "source": [
    "## 3.2 Шаг 1. Токенизация"
   ]
  },
  {
   "cell_type": "code",
   "execution_count": 4,
   "metadata": {},
   "outputs": [],
   "source": [
    "word_tokenizer = nltk.WordPunctTokenizer()"
   ]
  },
  {
   "cell_type": "markdown",
   "metadata": {},
   "source": [
    "Проведем токенизацию на содержании признака **Краткое описание** первой записи"
   ]
  },
  {
   "cell_type": "code",
   "execution_count": 5,
   "metadata": {},
   "outputs": [
    {
     "data": {
      "text/plain": [
       "'В глубине штата Мэн, на берегу залива Атлантического океана, живёт провинциальной жизнью большой, но уединённый город Роар, в котором на протяжении трёх десятилетий орудует серийный убийца, носящий прозвище Больничный Стрелок. На его счету пять жертв, и он вышел на охоту за шестой, однако на его пути внезапно возникают призраки его прошлых кровавых деяний — поколение людей, чьи судьбы затронули его зверства. Получив в своё распоряжение достойных противников, Стрелок произведёт свой самый виртуозный выстрел, вопрос лишь в том, в кого именно попадёт его задержавшаяся во времени пуля.Три части под одной обложкой!'"
      ]
     },
     "execution_count": 5,
     "metadata": {},
     "output_type": "execute_result"
    }
   ],
   "source": [
    "df.iloc[[3]]['Краткое описание'].values[0]"
   ]
  },
  {
   "cell_type": "markdown",
   "metadata": {},
   "source": [
    "Сформируем свой (дополнительный) списко стоп-слов из всех имеющихся записей"
   ]
  },
  {
   "cell_type": "code",
   "execution_count": 6,
   "metadata": {},
   "outputs": [],
   "source": [
    "stop_df = pd.DataFrame()\n",
    "for i in range(df.shape[0]):\n",
    "    tokens = word_tokenizer.tokenize(df.iloc[[i]]['Краткое описание'].values[0])\n",
    "    \n",
    "    df_tokens = pd.DataFrame(tokens)\n",
    "    df_tokens['len'] = df_tokens[0].apply(lambda x: len(x))\n",
    "    \n",
    "    \n",
    "    stop_df = pd.concat([stop_df, df_tokens[df_tokens['len']<4][0]], ignore_index=True)\n",
    "\n",
    "my_stop_w = list(stop_df[0].apply(lambda x: x.lower()))"
   ]
  },
  {
   "cell_type": "code",
   "execution_count": 7,
   "metadata": {},
   "outputs": [
    {
     "data": {
      "text/plain": [
       "['.', ',', 'и', '-', 'в', '.', '–', ',', 'и', '–']"
      ]
     },
     "metadata": {},
     "output_type": "display_data"
    },
    {
     "data": {
      "text/plain": [
       "['вот', '-', 'вот', 'с', '.', ',', 'и', 'без', 'еще', '.']"
      ]
     },
     "metadata": {},
     "output_type": "display_data"
    }
   ],
   "source": [
    "display(my_stop_w[:10])\n",
    "display(my_stop_w[-10:])"
   ]
  },
  {
   "cell_type": "markdown",
   "metadata": {},
   "source": [
    "## 3.3 Шаг 2. Удаляем стоп-слова"
   ]
  },
  {
   "cell_type": "markdown",
   "metadata": {},
   "source": [
    "Сначала загрузим список стоп-слов из словаря"
   ]
  },
  {
   "cell_type": "code",
   "execution_count": 8,
   "metadata": {},
   "outputs": [
    {
     "name": "stdout",
     "output_type": "stream",
     "text": [
      "151\n",
      "['и', 'в', 'во', 'не', 'что', 'он', 'на', 'я', 'с', 'со']\n"
     ]
    },
    {
     "name": "stderr",
     "output_type": "stream",
     "text": [
      "[nltk_data] Downloading package stopwords to\n",
      "[nltk_data]     C:\\Users\\KPS\\AppData\\Roaming\\nltk_data...\n",
      "[nltk_data]   Package stopwords is already up-to-date!\n"
     ]
    }
   ],
   "source": [
    "# загружаем список стоп-слов для русского\n",
    "nltk.download('stopwords')\n",
    "stop_words = nltk.corpus.stopwords.words('russian')\n",
    "\n",
    "# примеры стоп-слов\n",
    "print(len(stop_words))\n",
    "print(stop_words[:10])"
   ]
  },
  {
   "cell_type": "code",
   "execution_count": 9,
   "metadata": {},
   "outputs": [],
   "source": [
    "import re\n",
    "regex = re.compile(r'[А-Яа-яA-zёЁ-]+')\n",
    "\n",
    "def words_only(text, regex=regex):\n",
    "    try:\n",
    "        return \" \".join(regex.findall(text)).lower()\n",
    "    except:\n",
    "        return \"\""
   ]
  },
  {
   "cell_type": "code",
   "execution_count": 10,
   "metadata": {},
   "outputs": [],
   "source": [
    "import re\n",
    "from tqdm import tqdm_notebook\n",
    "regex = re.compile(r'[А-Яа-яA-zёЁ-]+')\n",
    "\n",
    "def words_only(text, regex=regex):\n",
    "    try:\n",
    "        return \" \".join(regex.findall(text)).lower()\n",
    "    except:\n",
    "        return \"\"\n",
    "\n",
    "# расширим список стоп-слов, словами, которые являеются стоп-словами в данной задаче\n",
    "all_stop_words = stop_words + my_stop_w\n",
    "\n",
    "def process_data(df):\n",
    "    \n",
    "    data = df.copy()\n",
    "    texts = []\n",
    "    targets = []\n",
    "\n",
    "    # поочередно проходим по всем описаниям\n",
    "        \n",
    "    for i in tqdm_notebook(range(data.shape[0])):\n",
    "        text = data.iloc[[i]]['Краткое описание'].values[0]\n",
    "\n",
    "        text_lower = words_only(text) # оставим только слова\n",
    "        tokens     = word_tokenizer.tokenize(text_lower) #разбиваем текст на слова\n",
    "\n",
    "        # удаляем пунктуацию и стоп-слова\n",
    "        tokens = [word for word in tokens if (word not in all_stop_words and not word.isnumeric())]\n",
    "\n",
    "        data['Краткое описание'].iloc[[i]] = data['Краткое описание'].iloc[[i]].apply(lambda x: tokens) # добавляем в предобработанный список\n",
    "\n",
    "    return data"
   ]
  },
  {
   "cell_type": "code",
   "execution_count": 11,
   "metadata": {},
   "outputs": [
    {
     "data": {
      "application/vnd.jupyter.widget-view+json": {
       "model_id": "d8030a07a6ed4914b6b99cfded9d1962",
       "version_major": 2,
       "version_minor": 0
      },
      "text/plain": [
       "  0%|          | 0/1152 [00:00<?, ?it/s]"
      ]
     },
     "metadata": {},
     "output_type": "display_data"
    }
   ],
   "source": [
    "# запускаем нашу предобработку\n",
    "df_tokened = process_data(df)"
   ]
  },
  {
   "cell_type": "code",
   "execution_count": 12,
   "metadata": {},
   "outputs": [
    {
     "data": {
      "text/html": [
       "<div>\n",
       "<style scoped>\n",
       "    .dataframe tbody tr th:only-of-type {\n",
       "        vertical-align: middle;\n",
       "    }\n",
       "\n",
       "    .dataframe tbody tr th {\n",
       "        vertical-align: top;\n",
       "    }\n",
       "\n",
       "    .dataframe thead th {\n",
       "        text-align: right;\n",
       "    }\n",
       "</style>\n",
       "<table border=\"1\" class=\"dataframe\">\n",
       "  <thead>\n",
       "    <tr style=\"text-align: right;\">\n",
       "      <th></th>\n",
       "      <th>Наименование</th>\n",
       "      <th>Краткое описание</th>\n",
       "      <th>Рейтинг</th>\n",
       "      <th>Количество оценок</th>\n",
       "      <th>Дата публикации</th>\n",
       "      <th>Количество отзывов</th>\n",
       "      <th>page_link</th>\n",
       "      <th>new_raiting</th>\n",
       "    </tr>\n",
       "  </thead>\n",
       "  <tbody>\n",
       "    <tr>\n",
       "      <th>0</th>\n",
       "      <td>Теория невероятности. Как мечтать, чтобы сбыва...</td>\n",
       "      <td>[никакой, магии, здравый, смысл, психология, в...</td>\n",
       "      <td>4.8</td>\n",
       "      <td>1541.0</td>\n",
       "      <td>2019-02-16</td>\n",
       "      <td>269.0</td>\n",
       "      <td>https://www.litres.ru/book/tatyana-muzhickaya/...</td>\n",
       "      <td>2.113456</td>\n",
       "    </tr>\n",
       "    <tr>\n",
       "      <th>1</th>\n",
       "      <td>Читайте людей как книгу. Как анализировать, по...</td>\n",
       "      <td>[книге, патрика, кинга, автора, мировых, бестс...</td>\n",
       "      <td>4.2</td>\n",
       "      <td>456.0</td>\n",
       "      <td>2021-07-15</td>\n",
       "      <td>49.0</td>\n",
       "      <td>https://www.litres.ru/audiobook/patrik-king/ch...</td>\n",
       "      <td>1.709554</td>\n",
       "    </tr>\n",
       "    <tr>\n",
       "      <th>4</th>\n",
       "      <td>Перестаньте угождать людям. Будьте ассертивным...</td>\n",
       "      <td>[угодничество, называют, болезнью, искалечить,...</td>\n",
       "      <td>4.3</td>\n",
       "      <td>160.0</td>\n",
       "      <td>2022-09-08</td>\n",
       "      <td>32.0</td>\n",
       "      <td>https://www.litres.ru/book/patrik-king/peresta...</td>\n",
       "      <td>1.646717</td>\n",
       "    </tr>\n",
       "    <tr>\n",
       "      <th>6</th>\n",
       "      <td>Родная кровь</td>\n",
       "      <td>[глубине, штата, берегу, залива, атлантическог...</td>\n",
       "      <td>4.8</td>\n",
       "      <td>8923.0</td>\n",
       "      <td>2022-01-12</td>\n",
       "      <td>639.0</td>\n",
       "      <td>https://www.litres.ru/book/anne-dar/rodnaya-kr...</td>\n",
       "      <td>3.392183</td>\n",
       "    </tr>\n",
       "    <tr>\n",
       "      <th>7</th>\n",
       "      <td>Внутри убийцы</td>\n",
       "      <td>[поймать, убийцу, нужно, смотреть, глазами, уб...</td>\n",
       "      <td>4.7</td>\n",
       "      <td>20230.0</td>\n",
       "      <td>2019-11-05</td>\n",
       "      <td>18000.0</td>\n",
       "      <td>https://www.litres.ru/book/mayk-omer/vnutri-ub...</td>\n",
       "      <td>3.410362</td>\n",
       "    </tr>\n",
       "    <tr>\n",
       "      <th>...</th>\n",
       "      <td>...</td>\n",
       "      <td>...</td>\n",
       "      <td>...</td>\n",
       "      <td>...</td>\n",
       "      <td>...</td>\n",
       "      <td>...</td>\n",
       "      <td>...</td>\n",
       "      <td>...</td>\n",
       "    </tr>\n",
       "    <tr>\n",
       "      <th>1368</th>\n",
       "      <td>Ящик Скиннера</td>\n",
       "      <td>[профайлер, окончания, университета, поступает...</td>\n",
       "      <td>4.9</td>\n",
       "      <td>740.0</td>\n",
       "      <td>2023-07-13</td>\n",
       "      <td>21.0</td>\n",
       "      <td>https://www.litres.ru/book/ley-mi/yaschik-skin...</td>\n",
       "      <td>2.672528</td>\n",
       "    </tr>\n",
       "    <tr>\n",
       "      <th>1369</th>\n",
       "      <td>Рисунок. Основы учебного академического рисунка</td>\n",
       "      <td>[предлагаемой, книге, рассматриваются, теорети...</td>\n",
       "      <td>4.4</td>\n",
       "      <td>202.0</td>\n",
       "      <td>2017-08-23</td>\n",
       "      <td>12.0</td>\n",
       "      <td>https://www.litres.ru/book/nikolay-li-10842550...</td>\n",
       "      <td>1.456602</td>\n",
       "    </tr>\n",
       "    <tr>\n",
       "      <th>1370</th>\n",
       "      <td>Договориться не проблема. Как добиваться своег...</td>\n",
       "      <td>[переговорные, техники, описанные, крисом, вос...</td>\n",
       "      <td>4.7</td>\n",
       "      <td>680.0</td>\n",
       "      <td>2017-12-20</td>\n",
       "      <td>75.0</td>\n",
       "      <td>https://www.litres.ru/book/kris-voss/dogovorit...</td>\n",
       "      <td>1.803074</td>\n",
       "    </tr>\n",
       "    <tr>\n",
       "      <th>1371</th>\n",
       "      <td>Повелитель мух</td>\n",
       "      <td>[повелитель, подлинный, шедевр, мировой, литер...</td>\n",
       "      <td>4.7</td>\n",
       "      <td>939.0</td>\n",
       "      <td>2022-05-23</td>\n",
       "      <td>137.0</td>\n",
       "      <td>https://www.litres.ru/audiobook/uilyam-golding...</td>\n",
       "      <td>2.246963</td>\n",
       "    </tr>\n",
       "    <tr>\n",
       "      <th>1372</th>\n",
       "      <td>Разрыв небесного шаблона</td>\n",
       "      <td>[мучаясь, ужасной, головной, боли, последнее, ...</td>\n",
       "      <td>4.4</td>\n",
       "      <td>392.0</td>\n",
       "      <td>2021-03-31</td>\n",
       "      <td>33.0</td>\n",
       "      <td>https://www.litres.ru/book/tatyana-garmash-rof...</td>\n",
       "      <td>1.731901</td>\n",
       "    </tr>\n",
       "  </tbody>\n",
       "</table>\n",
       "<p>1152 rows × 8 columns</p>\n",
       "</div>"
      ],
      "text/plain": [
       "                                           Наименование  \\\n",
       "0     Теория невероятности. Как мечтать, чтобы сбыва...   \n",
       "1     Читайте людей как книгу. Как анализировать, по...   \n",
       "4     Перестаньте угождать людям. Будьте ассертивным...   \n",
       "6                                          Родная кровь   \n",
       "7                                         Внутри убийцы   \n",
       "...                                                 ...   \n",
       "1368                                      Ящик Скиннера   \n",
       "1369    Рисунок. Основы учебного академического рисунка   \n",
       "1370  Договориться не проблема. Как добиваться своег...   \n",
       "1371                                     Повелитель мух   \n",
       "1372                           Разрыв небесного шаблона   \n",
       "\n",
       "                                       Краткое описание  Рейтинг  \\\n",
       "0     [никакой, магии, здравый, смысл, психология, в...      4.8   \n",
       "1     [книге, патрика, кинга, автора, мировых, бестс...      4.2   \n",
       "4     [угодничество, называют, болезнью, искалечить,...      4.3   \n",
       "6     [глубине, штата, берегу, залива, атлантическог...      4.8   \n",
       "7     [поймать, убийцу, нужно, смотреть, глазами, уб...      4.7   \n",
       "...                                                 ...      ...   \n",
       "1368  [профайлер, окончания, университета, поступает...      4.9   \n",
       "1369  [предлагаемой, книге, рассматриваются, теорети...      4.4   \n",
       "1370  [переговорные, техники, описанные, крисом, вос...      4.7   \n",
       "1371  [повелитель, подлинный, шедевр, мировой, литер...      4.7   \n",
       "1372  [мучаясь, ужасной, головной, боли, последнее, ...      4.4   \n",
       "\n",
       "      Количество оценок Дата публикации  Количество отзывов  \\\n",
       "0                1541.0      2019-02-16               269.0   \n",
       "1                 456.0      2021-07-15                49.0   \n",
       "4                 160.0      2022-09-08                32.0   \n",
       "6                8923.0      2022-01-12               639.0   \n",
       "7               20230.0      2019-11-05             18000.0   \n",
       "...                 ...             ...                 ...   \n",
       "1368              740.0      2023-07-13                21.0   \n",
       "1369              202.0      2017-08-23                12.0   \n",
       "1370              680.0      2017-12-20                75.0   \n",
       "1371              939.0      2022-05-23               137.0   \n",
       "1372              392.0      2021-03-31                33.0   \n",
       "\n",
       "                                              page_link  new_raiting  \n",
       "0     https://www.litres.ru/book/tatyana-muzhickaya/...     2.113456  \n",
       "1     https://www.litres.ru/audiobook/patrik-king/ch...     1.709554  \n",
       "4     https://www.litres.ru/book/patrik-king/peresta...     1.646717  \n",
       "6     https://www.litres.ru/book/anne-dar/rodnaya-kr...     3.392183  \n",
       "7     https://www.litres.ru/book/mayk-omer/vnutri-ub...     3.410362  \n",
       "...                                                 ...          ...  \n",
       "1368  https://www.litres.ru/book/ley-mi/yaschik-skin...     2.672528  \n",
       "1369  https://www.litres.ru/book/nikolay-li-10842550...     1.456602  \n",
       "1370  https://www.litres.ru/book/kris-voss/dogovorit...     1.803074  \n",
       "1371  https://www.litres.ru/audiobook/uilyam-golding...     2.246963  \n",
       "1372  https://www.litres.ru/book/tatyana-garmash-rof...     1.731901  \n",
       "\n",
       "[1152 rows x 8 columns]"
      ]
     },
     "execution_count": 12,
     "metadata": {},
     "output_type": "execute_result"
    }
   ],
   "source": [
    "df_tokened"
   ]
  },
  {
   "cell_type": "markdown",
   "metadata": {},
   "source": [
    "Сравним результаты до обработки и после для конкретного наблюдения:"
   ]
  },
  {
   "cell_type": "code",
   "execution_count": 16,
   "metadata": {},
   "outputs": [
    {
     "name": "stdout",
     "output_type": "stream",
     "text": [
      "Краткое описание до обработки:\n",
      "-----------------------------\n"
     ]
    },
    {
     "data": {
      "text/plain": [
       "'В глубине штата Мэн, на берегу залива Атлантического океана, живёт провинциальной жизнью большой, но уединённый город Роар, в котором на протяжении трёх десятилетий орудует серийный убийца, носящий прозвище Больничный Стрелок. На его счету пять жертв, и он вышел на охоту за шестой, однако на его пути внезапно возникают призраки его прошлых кровавых деяний — поколение людей, чьи судьбы затронули его зверства. Получив в своё распоряжение достойных противников, Стрелок произведёт свой самый виртуозный выстрел, вопрос лишь в том, в кого именно попадёт его задержавшаяся во времени пуля.Три части под одной обложкой!'"
      ]
     },
     "metadata": {},
     "output_type": "display_data"
    },
    {
     "name": "stdout",
     "output_type": "stream",
     "text": [
      "Краткое описание после обработки:\n",
      "-----------------------------\n"
     ]
    },
    {
     "data": {
      "text/plain": [
       "['глубине',\n",
       " 'штата',\n",
       " 'берегу',\n",
       " 'залива',\n",
       " 'атлантического',\n",
       " 'океана',\n",
       " 'живёт',\n",
       " 'провинциальной',\n",
       " 'жизнью',\n",
       " 'большой',\n",
       " 'уединённый',\n",
       " 'город',\n",
       " 'роар',\n",
       " 'котором',\n",
       " 'протяжении',\n",
       " 'трёх',\n",
       " 'десятилетий',\n",
       " 'орудует',\n",
       " 'серийный',\n",
       " 'убийца',\n",
       " 'носящий',\n",
       " 'прозвище',\n",
       " 'больничный',\n",
       " 'стрелок',\n",
       " 'счету',\n",
       " 'пять',\n",
       " 'жертв',\n",
       " 'вышел',\n",
       " 'охоту',\n",
       " 'шестой',\n",
       " 'однако',\n",
       " 'пути',\n",
       " 'внезапно',\n",
       " 'возникают',\n",
       " 'призраки',\n",
       " 'прошлых',\n",
       " 'кровавых',\n",
       " 'деяний',\n",
       " 'поколение',\n",
       " 'людей',\n",
       " 'судьбы',\n",
       " 'затронули',\n",
       " 'зверства',\n",
       " 'получив',\n",
       " 'своё',\n",
       " 'распоряжение',\n",
       " 'достойных',\n",
       " 'противников',\n",
       " 'стрелок',\n",
       " 'произведёт',\n",
       " 'свой',\n",
       " 'самый',\n",
       " 'виртуозный',\n",
       " 'выстрел',\n",
       " 'вопрос',\n",
       " 'лишь',\n",
       " 'кого',\n",
       " 'именно',\n",
       " 'попадёт',\n",
       " 'задержавшаяся',\n",
       " 'времени',\n",
       " 'пуля',\n",
       " 'части',\n",
       " 'одной',\n",
       " 'обложкой']"
      ]
     },
     "metadata": {},
     "output_type": "display_data"
    }
   ],
   "source": [
    "print('Краткое описание до обработки:')\n",
    "print('-----------------------------')\n",
    "display(df['Краткое описание'][3])\n",
    "print('Краткое описание после обработки:')\n",
    "print('-----------------------------')\n",
    "display(df_tokened['Краткое описание'][3])"
   ]
  },
  {
   "cell_type": "markdown",
   "metadata": {},
   "source": [
    "Видим, что:\n",
    "- **Краткое описание** представлено списком слов. \n",
    "- Все слова с маленькой буквы. \n",
    "- Пунктуация и стоп-слова удалены."
   ]
  },
  {
   "cell_type": "markdown",
   "metadata": {},
   "source": [
    "## 3.4 Шаг 3 . Нормализация слов"
   ]
  },
  {
   "cell_type": "markdown",
   "metadata": {},
   "source": [
    "- Существует 2 наиболее известных способа нормализации слов: **стемминг** и **лемматизация**.\n",
    "- В общих чертах они похоже, но между этими методами есть различия. В зависимости от языка и задачи тот или иной метод может быть предпочтительнее.\n",
    "\n",
    "Поэтому создадим два варианта нормализации и выберем тот, что дает наилучший результат на тесте"
   ]
  },
  {
   "cell_type": "markdown",
   "metadata": {},
   "source": [
    "### 3.4.1 Стемминг"
   ]
  },
  {
   "cell_type": "code",
   "execution_count": 17,
   "metadata": {},
   "outputs": [],
   "source": [
    "from nltk.stem.snowball import SnowballStemmer"
   ]
  },
  {
   "cell_type": "code",
   "execution_count": 18,
   "metadata": {},
   "outputs": [],
   "source": [
    "def stemming (list_of_words):\n",
    "    stemmer = SnowballStemmer(\"russian\")\n",
    "    new_list = []\n",
    "    for aword in list_of_words:\n",
    "        new_list.append(stemmer.stem(aword))\n",
    "    text = ' '.join(new_list)\n",
    "    return text"
   ]
  },
  {
   "cell_type": "code",
   "execution_count": 19,
   "metadata": {},
   "outputs": [],
   "source": [
    "df_tokened['Стемминг'] = df_tokened['Краткое описание'].apply(lambda x: stemming(x))"
   ]
  },
  {
   "cell_type": "markdown",
   "metadata": {},
   "source": [
    "Сравним результаты до обработки и после для конкретного наблюдения:"
   ]
  },
  {
   "cell_type": "code",
   "execution_count": 20,
   "metadata": {},
   "outputs": [
    {
     "name": "stdout",
     "output_type": "stream",
     "text": [
      "Краткое описание до обработки:\n",
      "-----------------------------\n"
     ]
    },
    {
     "data": {
      "text/plain": [
       "'В глубине штата Мэн, на берегу залива Атлантического океана, живёт провинциальной жизнью большой, но уединённый город Роар, в котором на протяжении трёх десятилетий орудует серийный убийца, носящий прозвище Больничный Стрелок. На его счету пять жертв, и он вышел на охоту за шестой, однако на его пути внезапно возникают призраки его прошлых кровавых деяний — поколение людей, чьи судьбы затронули его зверства. Получив в своё распоряжение достойных противников, Стрелок произведёт свой самый виртуозный выстрел, вопрос лишь в том, в кого именно попадёт его задержавшаяся во времени пуля.Три части под одной обложкой!'"
      ]
     },
     "metadata": {},
     "output_type": "display_data"
    },
    {
     "name": "stdout",
     "output_type": "stream",
     "text": [
      "Краткое описание после обработки:\n",
      "-----------------------------\n"
     ]
    },
    {
     "data": {
      "text/plain": [
       "'глубин штат берег залив атлантическ океа живет провинциальн жизн больш уединен город роар котор протяжен трех десятилет оруд серийн убийц нося прозвищ больничн стрелок счет пят жертв вышел охот шест однак пут внезапн возника призрак прошл кровав деян поколен люд судьб затронул зверств получ сво распоряжен достойн противник стрелок произведет сво сам виртуозн выстрел вопрос лиш ког имен попадет задержа времен пул част одн обложк'"
      ]
     },
     "metadata": {},
     "output_type": "display_data"
    }
   ],
   "source": [
    "print('Краткое описание до обработки:')\n",
    "print('-----------------------------')\n",
    "display(df['Краткое описание'][3])\n",
    "print('Краткое описание после обработки:')\n",
    "print('-----------------------------')\n",
    "display(df_tokened['Стемминг'][3])"
   ]
  },
  {
   "cell_type": "markdown",
   "metadata": {},
   "source": [
    "### 3.4.2 Лемматизация"
   ]
  },
  {
   "cell_type": "code",
   "execution_count": 21,
   "metadata": {},
   "outputs": [],
   "source": [
    "# загружаем библиотеку для лемматизации\n",
    "import pymorphy2 # Морфологический анализатор"
   ]
  },
  {
   "cell_type": "code",
   "execution_count": 22,
   "metadata": {},
   "outputs": [],
   "source": [
    "morph = pymorphy2.MorphAnalyzer()\n",
    "def lemmatization (list_of_words):\n",
    "    new_list = []\n",
    "    for aword in list_of_words:\n",
    "        new_list.append(morph.parse(aword)[0].normal_form)\n",
    "    text = ' '.join(new_list)\n",
    "    return text"
   ]
  },
  {
   "cell_type": "code",
   "execution_count": 23,
   "metadata": {},
   "outputs": [],
   "source": [
    "df_tokened['Лемматизация'] = df_tokened['Краткое описание'].apply(lambda x: lemmatization(x))"
   ]
  },
  {
   "cell_type": "code",
   "execution_count": 24,
   "metadata": {},
   "outputs": [
    {
     "name": "stdout",
     "output_type": "stream",
     "text": [
      "Краткое описание до обработки:\n",
      "-----------------------------\n"
     ]
    },
    {
     "data": {
      "text/plain": [
       "'В глубине штата Мэн, на берегу залива Атлантического океана, живёт провинциальной жизнью большой, но уединённый город Роар, в котором на протяжении трёх десятилетий орудует серийный убийца, носящий прозвище Больничный Стрелок. На его счету пять жертв, и он вышел на охоту за шестой, однако на его пути внезапно возникают призраки его прошлых кровавых деяний — поколение людей, чьи судьбы затронули его зверства. Получив в своё распоряжение достойных противников, Стрелок произведёт свой самый виртуозный выстрел, вопрос лишь в том, в кого именно попадёт его задержавшаяся во времени пуля.Три части под одной обложкой!'"
      ]
     },
     "metadata": {},
     "output_type": "display_data"
    },
    {
     "name": "stdout",
     "output_type": "stream",
     "text": [
      "Краткое описание после Стемминга:\n",
      "-----------------------------\n"
     ]
    },
    {
     "data": {
      "text/plain": [
       "'глубин штат берег залив атлантическ океа живет провинциальн жизн больш уединен город роар котор протяжен трех десятилет оруд серийн убийц нося прозвищ больничн стрелок счет пят жертв вышел охот шест однак пут внезапн возника призрак прошл кровав деян поколен люд судьб затронул зверств получ сво распоряжен достойн противник стрелок произведет сво сам виртуозн выстрел вопрос лиш ког имен попадет задержа времен пул част одн обложк'"
      ]
     },
     "metadata": {},
     "output_type": "display_data"
    },
    {
     "name": "stdout",
     "output_type": "stream",
     "text": [
      "Краткое описание после Лемматизации:\n",
      "-----------------------------\n"
     ]
    },
    {
     "data": {
      "text/plain": [
       "'глубина штат берег залив атлантический океан жить провинциальный жизнь большой уединённый город роар который протяжение три десятилетие орудовать серийный убийца носить прозвище больничный стрелка счёт пять жертва выйти охота шестой однако путь внезапно возникать призрак прошлый кровавый деяние поколение человек судьба затронуть зверство получить свой распоряжение достойный противник стрелка произвести свой самый виртуозный выстрел вопрос лишь кто именно попасть задержаться время пуля часть один обложка'"
      ]
     },
     "metadata": {},
     "output_type": "display_data"
    }
   ],
   "source": [
    "print('Краткое описание до обработки:')\n",
    "print('-----------------------------')\n",
    "display(df['Краткое описание'][3])\n",
    "print('Краткое описание после Стемминга:')\n",
    "print('-----------------------------')\n",
    "display(df_tokened['Стемминг'][3])\n",
    "print('Краткое описание после Лемматизации:')\n",
    "print('-----------------------------')\n",
    "display(df_tokened['Лемматизация'][3])"
   ]
  },
  {
   "cell_type": "markdown",
   "metadata": {},
   "source": [
    "Сохраним сформированный датасет"
   ]
  },
  {
   "cell_type": "code",
   "execution_count": 26,
   "metadata": {},
   "outputs": [],
   "source": [
    "df_tokened.to_pickle('../data/df_NLP.pkl')"
   ]
  }
 ],
 "metadata": {
  "colab": {
   "provenance": []
  },
  "kernelspec": {
   "display_name": "Python 3 (ipykernel)",
   "language": "python",
   "name": "python3"
  },
  "language_info": {
   "codemirror_mode": {
    "name": "ipython",
    "version": 3
   },
   "file_extension": ".py",
   "mimetype": "text/x-python",
   "name": "python",
   "nbconvert_exporter": "python",
   "pygments_lexer": "ipython3",
   "version": "3.10.5"
  },
  "varInspector": {
   "cols": {
    "lenName": 16,
    "lenType": 16,
    "lenVar": 40
   },
   "kernels_config": {
    "python": {
     "delete_cmd_postfix": "",
     "delete_cmd_prefix": "del ",
     "library": "var_list.py",
     "varRefreshCmd": "print(var_dic_list())"
    },
    "r": {
     "delete_cmd_postfix": ") ",
     "delete_cmd_prefix": "rm(",
     "library": "var_list.r",
     "varRefreshCmd": "cat(var_dic_list()) "
    }
   },
   "types_to_exclude": [
    "module",
    "function",
    "builtin_function_or_method",
    "instance",
    "_Feature"
   ],
   "window_display": false
  },
  "widgets": {
   "application/vnd.jupyter.widget-state+json": {
    "09cfb4b502814b4b81fdf93a837660ec": {
     "model_module": "@jupyter-widgets/controls",
     "model_module_version": "1.5.0",
     "model_name": "HBoxModel",
     "state": {
      "_dom_classes": [],
      "_model_module": "@jupyter-widgets/controls",
      "_model_module_version": "1.5.0",
      "_model_name": "HBoxModel",
      "_view_count": null,
      "_view_module": "@jupyter-widgets/controls",
      "_view_module_version": "1.5.0",
      "_view_name": "HBoxView",
      "box_style": "",
      "children": [
       "IPY_MODEL_ea9baf580f604208affdd0d051e34dd9",
       "IPY_MODEL_de4ef222413c405b8cb7d755eedc2150",
       "IPY_MODEL_256e77199e824cee94fba85b8fd00bf5"
      ],
      "layout": "IPY_MODEL_d9616528fee546ea8a3d066b953e5172"
     }
    },
    "256e77199e824cee94fba85b8fd00bf5": {
     "model_module": "@jupyter-widgets/controls",
     "model_module_version": "1.5.0",
     "model_name": "HTMLModel",
     "state": {
      "_dom_classes": [],
      "_model_module": "@jupyter-widgets/controls",
      "_model_module_version": "1.5.0",
      "_model_name": "HTMLModel",
      "_view_count": null,
      "_view_module": "@jupyter-widgets/controls",
      "_view_module_version": "1.5.0",
      "_view_name": "HTMLView",
      "description": "",
      "description_tooltip": null,
      "layout": "IPY_MODEL_89ebbe461ea84679acf11a58582fe51c",
      "placeholder": "​",
      "style": "IPY_MODEL_db0b1417eef04360b0f340be80bebe77",
      "value": " 16/16 [00:00&lt;00:00, 26.44it/s]"
     }
    },
    "5f4261b7a8eb46b7b21b4a1c2f909350": {
     "model_module": "@jupyter-widgets/controls",
     "model_module_version": "1.5.0",
     "model_name": "DescriptionStyleModel",
     "state": {
      "_model_module": "@jupyter-widgets/controls",
      "_model_module_version": "1.5.0",
      "_model_name": "DescriptionStyleModel",
      "_view_count": null,
      "_view_module": "@jupyter-widgets/base",
      "_view_module_version": "1.2.0",
      "_view_name": "StyleView",
      "description_width": ""
     }
    },
    "88e5a274dca146ee8025b32104f69d8b": {
     "model_module": "@jupyter-widgets/base",
     "model_module_version": "1.2.0",
     "model_name": "LayoutModel",
     "state": {
      "_model_module": "@jupyter-widgets/base",
      "_model_module_version": "1.2.0",
      "_model_name": "LayoutModel",
      "_view_count": null,
      "_view_module": "@jupyter-widgets/base",
      "_view_module_version": "1.2.0",
      "_view_name": "LayoutView",
      "align_content": null,
      "align_items": null,
      "align_self": null,
      "border": null,
      "bottom": null,
      "display": null,
      "flex": null,
      "flex_flow": null,
      "grid_area": null,
      "grid_auto_columns": null,
      "grid_auto_flow": null,
      "grid_auto_rows": null,
      "grid_column": null,
      "grid_gap": null,
      "grid_row": null,
      "grid_template_areas": null,
      "grid_template_columns": null,
      "grid_template_rows": null,
      "height": null,
      "justify_content": null,
      "justify_items": null,
      "left": null,
      "margin": null,
      "max_height": null,
      "max_width": null,
      "min_height": null,
      "min_width": null,
      "object_fit": null,
      "object_position": null,
      "order": null,
      "overflow": null,
      "overflow_x": null,
      "overflow_y": null,
      "padding": null,
      "right": null,
      "top": null,
      "visibility": null,
      "width": null
     }
    },
    "89ebbe461ea84679acf11a58582fe51c": {
     "model_module": "@jupyter-widgets/base",
     "model_module_version": "1.2.0",
     "model_name": "LayoutModel",
     "state": {
      "_model_module": "@jupyter-widgets/base",
      "_model_module_version": "1.2.0",
      "_model_name": "LayoutModel",
      "_view_count": null,
      "_view_module": "@jupyter-widgets/base",
      "_view_module_version": "1.2.0",
      "_view_name": "LayoutView",
      "align_content": null,
      "align_items": null,
      "align_self": null,
      "border": null,
      "bottom": null,
      "display": null,
      "flex": null,
      "flex_flow": null,
      "grid_area": null,
      "grid_auto_columns": null,
      "grid_auto_flow": null,
      "grid_auto_rows": null,
      "grid_column": null,
      "grid_gap": null,
      "grid_row": null,
      "grid_template_areas": null,
      "grid_template_columns": null,
      "grid_template_rows": null,
      "height": null,
      "justify_content": null,
      "justify_items": null,
      "left": null,
      "margin": null,
      "max_height": null,
      "max_width": null,
      "min_height": null,
      "min_width": null,
      "object_fit": null,
      "object_position": null,
      "order": null,
      "overflow": null,
      "overflow_x": null,
      "overflow_y": null,
      "padding": null,
      "right": null,
      "top": null,
      "visibility": null,
      "width": null
     }
    },
    "c79984b3b0a842efb76b3b7ad841484e": {
     "model_module": "@jupyter-widgets/controls",
     "model_module_version": "1.5.0",
     "model_name": "ProgressStyleModel",
     "state": {
      "_model_module": "@jupyter-widgets/controls",
      "_model_module_version": "1.5.0",
      "_model_name": "ProgressStyleModel",
      "_view_count": null,
      "_view_module": "@jupyter-widgets/base",
      "_view_module_version": "1.2.0",
      "_view_name": "StyleView",
      "bar_color": null,
      "description_width": ""
     }
    },
    "d9616528fee546ea8a3d066b953e5172": {
     "model_module": "@jupyter-widgets/base",
     "model_module_version": "1.2.0",
     "model_name": "LayoutModel",
     "state": {
      "_model_module": "@jupyter-widgets/base",
      "_model_module_version": "1.2.0",
      "_model_name": "LayoutModel",
      "_view_count": null,
      "_view_module": "@jupyter-widgets/base",
      "_view_module_version": "1.2.0",
      "_view_name": "LayoutView",
      "align_content": null,
      "align_items": null,
      "align_self": null,
      "border": null,
      "bottom": null,
      "display": null,
      "flex": null,
      "flex_flow": null,
      "grid_area": null,
      "grid_auto_columns": null,
      "grid_auto_flow": null,
      "grid_auto_rows": null,
      "grid_column": null,
      "grid_gap": null,
      "grid_row": null,
      "grid_template_areas": null,
      "grid_template_columns": null,
      "grid_template_rows": null,
      "height": null,
      "justify_content": null,
      "justify_items": null,
      "left": null,
      "margin": null,
      "max_height": null,
      "max_width": null,
      "min_height": null,
      "min_width": null,
      "object_fit": null,
      "object_position": null,
      "order": null,
      "overflow": null,
      "overflow_x": null,
      "overflow_y": null,
      "padding": null,
      "right": null,
      "top": null,
      "visibility": null,
      "width": null
     }
    },
    "db0b1417eef04360b0f340be80bebe77": {
     "model_module": "@jupyter-widgets/controls",
     "model_module_version": "1.5.0",
     "model_name": "DescriptionStyleModel",
     "state": {
      "_model_module": "@jupyter-widgets/controls",
      "_model_module_version": "1.5.0",
      "_model_name": "DescriptionStyleModel",
      "_view_count": null,
      "_view_module": "@jupyter-widgets/base",
      "_view_module_version": "1.2.0",
      "_view_name": "StyleView",
      "description_width": ""
     }
    },
    "de4ef222413c405b8cb7d755eedc2150": {
     "model_module": "@jupyter-widgets/controls",
     "model_module_version": "1.5.0",
     "model_name": "FloatProgressModel",
     "state": {
      "_dom_classes": [],
      "_model_module": "@jupyter-widgets/controls",
      "_model_module_version": "1.5.0",
      "_model_name": "FloatProgressModel",
      "_view_count": null,
      "_view_module": "@jupyter-widgets/controls",
      "_view_module_version": "1.5.0",
      "_view_name": "ProgressView",
      "bar_style": "success",
      "description": "",
      "description_tooltip": null,
      "layout": "IPY_MODEL_88e5a274dca146ee8025b32104f69d8b",
      "max": 16,
      "min": 0,
      "orientation": "horizontal",
      "style": "IPY_MODEL_c79984b3b0a842efb76b3b7ad841484e",
      "value": 16
     }
    },
    "ea9baf580f604208affdd0d051e34dd9": {
     "model_module": "@jupyter-widgets/controls",
     "model_module_version": "1.5.0",
     "model_name": "HTMLModel",
     "state": {
      "_dom_classes": [],
      "_model_module": "@jupyter-widgets/controls",
      "_model_module_version": "1.5.0",
      "_model_name": "HTMLModel",
      "_view_count": null,
      "_view_module": "@jupyter-widgets/controls",
      "_view_module_version": "1.5.0",
      "_view_name": "HTMLView",
      "description": "",
      "description_tooltip": null,
      "layout": "IPY_MODEL_f1880de7dbc34a6381681fb40e909f60",
      "placeholder": "​",
      "style": "IPY_MODEL_5f4261b7a8eb46b7b21b4a1c2f909350",
      "value": "100%"
     }
    },
    "f1880de7dbc34a6381681fb40e909f60": {
     "model_module": "@jupyter-widgets/base",
     "model_module_version": "1.2.0",
     "model_name": "LayoutModel",
     "state": {
      "_model_module": "@jupyter-widgets/base",
      "_model_module_version": "1.2.0",
      "_model_name": "LayoutModel",
      "_view_count": null,
      "_view_module": "@jupyter-widgets/base",
      "_view_module_version": "1.2.0",
      "_view_name": "LayoutView",
      "align_content": null,
      "align_items": null,
      "align_self": null,
      "border": null,
      "bottom": null,
      "display": null,
      "flex": null,
      "flex_flow": null,
      "grid_area": null,
      "grid_auto_columns": null,
      "grid_auto_flow": null,
      "grid_auto_rows": null,
      "grid_column": null,
      "grid_gap": null,
      "grid_row": null,
      "grid_template_areas": null,
      "grid_template_columns": null,
      "grid_template_rows": null,
      "height": null,
      "justify_content": null,
      "justify_items": null,
      "left": null,
      "margin": null,
      "max_height": null,
      "max_width": null,
      "min_height": null,
      "min_width": null,
      "object_fit": null,
      "object_position": null,
      "order": null,
      "overflow": null,
      "overflow_x": null,
      "overflow_y": null,
      "padding": null,
      "right": null,
      "top": null,
      "visibility": null,
      "width": null
     }
    }
   }
  }
 },
 "nbformat": 4,
 "nbformat_minor": 1
}
