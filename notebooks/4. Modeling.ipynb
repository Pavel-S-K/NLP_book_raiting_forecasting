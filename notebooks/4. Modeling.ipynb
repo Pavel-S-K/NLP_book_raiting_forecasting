{
 "cells": [
  {
   "cell_type": "markdown",
   "metadata": {},
   "source": [
    "# Постановка задачи"
   ]
  },
  {
   "cell_type": "markdown",
   "metadata": {},
   "source": [
    "### Задача"
   ]
  },
  {
   "cell_type": "markdown",
   "metadata": {},
   "source": [
    "- Парсинг данных по книгам с сайта 'https://www.litres.ru/popular/' и построение модели пресказания потенциального рейтинга книги по ее текстовому описанию"
   ]
  },
  {
   "cell_type": "markdown",
   "metadata": {},
   "source": [
    "### Описание данных"
   ]
  },
  {
   "cell_type": "markdown",
   "metadata": {},
   "source": [
    "**Источник данных:** https://www.litres.ru/popular/"
   ]
  },
  {
   "cell_type": "code",
   "execution_count": 7,
   "metadata": {
    "id": "rnxFdMJIALLo"
   },
   "outputs": [],
   "source": [
    "import warnings\n",
    "warnings.filterwarnings(\"ignore\")"
   ]
  },
  {
   "cell_type": "code",
   "execution_count": 8,
   "metadata": {
    "id": "35Uti68PFugT"
   },
   "outputs": [],
   "source": [
    "import numpy as np   \n",
    "import pandas as pd          "
   ]
  },
  {
   "cell_type": "markdown",
   "metadata": {},
   "source": [
    "# 4. Моделирование"
   ]
  },
  {
   "cell_type": "markdown",
   "metadata": {},
   "source": [
    "## 4.1 Загрузка датасета"
   ]
  },
  {
   "cell_type": "markdown",
   "metadata": {},
   "source": [
    "Загрузим обработанные данные"
   ]
  },
  {
   "cell_type": "code",
   "execution_count": 9,
   "metadata": {},
   "outputs": [
    {
     "data": {
      "text/html": [
       "<div>\n",
       "<style scoped>\n",
       "    .dataframe tbody tr th:only-of-type {\n",
       "        vertical-align: middle;\n",
       "    }\n",
       "\n",
       "    .dataframe tbody tr th {\n",
       "        vertical-align: top;\n",
       "    }\n",
       "\n",
       "    .dataframe thead th {\n",
       "        text-align: right;\n",
       "    }\n",
       "</style>\n",
       "<table border=\"1\" class=\"dataframe\">\n",
       "  <thead>\n",
       "    <tr style=\"text-align: right;\">\n",
       "      <th></th>\n",
       "      <th>Наименование</th>\n",
       "      <th>Краткое описание</th>\n",
       "      <th>Рейтинг</th>\n",
       "      <th>Количество оценок</th>\n",
       "      <th>Дата публикации</th>\n",
       "      <th>Количество отзывов</th>\n",
       "      <th>page_link</th>\n",
       "      <th>new_raiting</th>\n",
       "      <th>Стемминг</th>\n",
       "      <th>Лемматизация</th>\n",
       "    </tr>\n",
       "  </thead>\n",
       "  <tbody>\n",
       "    <tr>\n",
       "      <th>0</th>\n",
       "      <td>Теория невероятности. Как мечтать, чтобы сбыва...</td>\n",
       "      <td>[никакой, магии, здравый, смысл, психология, в...</td>\n",
       "      <td>4.8</td>\n",
       "      <td>1541.0</td>\n",
       "      <td>2019-02-16</td>\n",
       "      <td>269.0</td>\n",
       "      <td>https://www.litres.ru/book/tatyana-muzhickaya/...</td>\n",
       "      <td>2.113456</td>\n",
       "      <td>никак маг здрав смысл психолог вер чудес книг ...</td>\n",
       "      <td>никакой магия здравый смысл психология вера чу...</td>\n",
       "    </tr>\n",
       "    <tr>\n",
       "      <th>1</th>\n",
       "      <td>Читайте людей как книгу. Как анализировать, по...</td>\n",
       "      <td>[книге, патрика, кинга, автора, мировых, бестс...</td>\n",
       "      <td>4.2</td>\n",
       "      <td>456.0</td>\n",
       "      <td>2021-07-15</td>\n",
       "      <td>49.0</td>\n",
       "      <td>https://www.litres.ru/audiobook/patrik-king/ch...</td>\n",
       "      <td>1.709554</td>\n",
       "      <td>книг патрик кинг автор миров бестселлер област...</td>\n",
       "      <td>книга патрик кинг автор мировой бестселлер обл...</td>\n",
       "    </tr>\n",
       "    <tr>\n",
       "      <th>2</th>\n",
       "      <td>Перестаньте угождать людям. Будьте ассертивным...</td>\n",
       "      <td>[угодничество, называют, болезнью, искалечить,...</td>\n",
       "      <td>4.3</td>\n",
       "      <td>160.0</td>\n",
       "      <td>2022-09-08</td>\n",
       "      <td>32.0</td>\n",
       "      <td>https://www.litres.ru/book/patrik-king/peresta...</td>\n",
       "      <td>1.646717</td>\n",
       "      <td>угодничеств называ болезн искалеч застав заб у...</td>\n",
       "      <td>угодничество называть болезнь искалечить заста...</td>\n",
       "    </tr>\n",
       "    <tr>\n",
       "      <th>3</th>\n",
       "      <td>Родная кровь</td>\n",
       "      <td>[глубине, штата, берегу, залива, атлантическог...</td>\n",
       "      <td>4.8</td>\n",
       "      <td>8923.0</td>\n",
       "      <td>2022-01-12</td>\n",
       "      <td>639.0</td>\n",
       "      <td>https://www.litres.ru/book/anne-dar/rodnaya-kr...</td>\n",
       "      <td>3.392183</td>\n",
       "      <td>глубин штат берег залив атлантическ океа живет...</td>\n",
       "      <td>глубина штат берег залив атлантический океан ж...</td>\n",
       "    </tr>\n",
       "    <tr>\n",
       "      <th>4</th>\n",
       "      <td>Внутри убийцы</td>\n",
       "      <td>[поймать, убийцу, нужно, смотреть, глазами, уб...</td>\n",
       "      <td>4.7</td>\n",
       "      <td>20230.0</td>\n",
       "      <td>2019-11-05</td>\n",
       "      <td>18000.0</td>\n",
       "      <td>https://www.litres.ru/book/mayk-omer/vnutri-ub...</td>\n",
       "      <td>3.410362</td>\n",
       "      <td>пойма убийц нужн смотрет глаз убийц бестселлер...</td>\n",
       "      <td>поймать убийца нужно смотреть глаз убийца бест...</td>\n",
       "    </tr>\n",
       "  </tbody>\n",
       "</table>\n",
       "</div>"
      ],
      "text/plain": [
       "                                        Наименование  \\\n",
       "0  Теория невероятности. Как мечтать, чтобы сбыва...   \n",
       "1  Читайте людей как книгу. Как анализировать, по...   \n",
       "2  Перестаньте угождать людям. Будьте ассертивным...   \n",
       "3                                       Родная кровь   \n",
       "4                                      Внутри убийцы   \n",
       "\n",
       "                                    Краткое описание  Рейтинг  \\\n",
       "0  [никакой, магии, здравый, смысл, психология, в...      4.8   \n",
       "1  [книге, патрика, кинга, автора, мировых, бестс...      4.2   \n",
       "2  [угодничество, называют, болезнью, искалечить,...      4.3   \n",
       "3  [глубине, штата, берегу, залива, атлантическог...      4.8   \n",
       "4  [поймать, убийцу, нужно, смотреть, глазами, уб...      4.7   \n",
       "\n",
       "   Количество оценок Дата публикации  Количество отзывов  \\\n",
       "0             1541.0      2019-02-16               269.0   \n",
       "1              456.0      2021-07-15                49.0   \n",
       "2              160.0      2022-09-08                32.0   \n",
       "3             8923.0      2022-01-12               639.0   \n",
       "4            20230.0      2019-11-05             18000.0   \n",
       "\n",
       "                                           page_link  new_raiting  \\\n",
       "0  https://www.litres.ru/book/tatyana-muzhickaya/...     2.113456   \n",
       "1  https://www.litres.ru/audiobook/patrik-king/ch...     1.709554   \n",
       "2  https://www.litres.ru/book/patrik-king/peresta...     1.646717   \n",
       "3  https://www.litres.ru/book/anne-dar/rodnaya-kr...     3.392183   \n",
       "4  https://www.litres.ru/book/mayk-omer/vnutri-ub...     3.410362   \n",
       "\n",
       "                                            Стемминг  \\\n",
       "0  никак маг здрав смысл психолог вер чудес книг ...   \n",
       "1  книг патрик кинг автор миров бестселлер област...   \n",
       "2  угодничеств называ болезн искалеч застав заб у...   \n",
       "3  глубин штат берег залив атлантическ океа живет...   \n",
       "4  пойма убийц нужн смотрет глаз убийц бестселлер...   \n",
       "\n",
       "                                        Лемматизация  \n",
       "0  никакой магия здравый смысл психология вера чу...  \n",
       "1  книга патрик кинг автор мировой бестселлер обл...  \n",
       "2  угодничество называть болезнь искалечить заста...  \n",
       "3  глубина штат берег залив атлантический океан ж...  \n",
       "4  поймать убийца нужно смотреть глаз убийца бест...  "
      ]
     },
     "metadata": {},
     "output_type": "display_data"
    },
    {
     "name": "stdout",
     "output_type": "stream",
     "text": [
      "<class 'pandas.core.frame.DataFrame'>\n",
      "RangeIndex: 1152 entries, 0 to 1151\n",
      "Data columns (total 10 columns):\n",
      " #   Column              Non-Null Count  Dtype         \n",
      "---  ------              --------------  -----         \n",
      " 0   Наименование        1152 non-null   object        \n",
      " 1   Краткое описание    1152 non-null   object        \n",
      " 2   Рейтинг             1152 non-null   float64       \n",
      " 3   Количество оценок   1152 non-null   float64       \n",
      " 4   Дата публикации     1152 non-null   datetime64[ns]\n",
      " 5   Количество отзывов  1152 non-null   float64       \n",
      " 6   page_link           1152 non-null   object        \n",
      " 7   new_raiting         1152 non-null   float64       \n",
      " 8   Стемминг            1152 non-null   object        \n",
      " 9   Лемматизация        1152 non-null   object        \n",
      "dtypes: datetime64[ns](1), float64(4), object(5)\n",
      "memory usage: 90.1+ KB\n"
     ]
    },
    {
     "data": {
      "text/plain": [
       "None"
      ]
     },
     "metadata": {},
     "output_type": "display_data"
    }
   ],
   "source": [
    "df = pd.read_pickle('../data/df_NLP.pkl')\n",
    "display(df.head())\n",
    "display(df.info())"
   ]
  },
  {
   "cell_type": "markdown",
   "metadata": {},
   "source": [
    "## 4.2 train_test"
   ]
  },
  {
   "cell_type": "markdown",
   "metadata": {},
   "source": [
    "Разделим наш датасет на обучающую и тестовую выборку"
   ]
  },
  {
   "cell_type": "code",
   "execution_count": 31,
   "metadata": {},
   "outputs": [],
   "source": [
    "#train test_split\n",
    "from sklearn.model_selection import train_test_split\n",
    "train_df, test_df, train_y, test_y = train_test_split(df.drop(columns=['new_raiting']), df['new_raiting'], test_size=0.2, random_state=42)"
   ]
  },
  {
   "cell_type": "markdown",
   "metadata": {},
   "source": [
    "##  4.3 Векторное представление Bag of Words"
   ]
  },
  {
   "cell_type": "markdown",
   "metadata": {},
   "source": [
    "Используем метод **Bag of Words** для преобразования текста в признаковое пространство для использования класических моделей ML"
   ]
  },
  {
   "cell_type": "markdown",
   "metadata": {},
   "source": [
    "### 4.3.1 Стемминг"
   ]
  },
  {
   "cell_type": "markdown",
   "metadata": {},
   "source": [
    "Построим пространство признаков на базе результатов номализации типа Стемминг"
   ]
  },
  {
   "cell_type": "code",
   "execution_count": 32,
   "metadata": {},
   "outputs": [
    {
     "data": {
      "text/plain": [
       "array(['автор', 'аудиокниг', 'бестселлер', 'бизнес', 'больш', 'важн',\n",
       "       'ваш', 'вмест', 'возможн', 'войн'], dtype=object)"
      ]
     },
     "execution_count": 32,
     "metadata": {},
     "output_type": "execute_result"
    }
   ],
   "source": [
    "#Инициализируем векторайзер\n",
    "from sklearn.feature_extraction.text import CountVectorizer\n",
    "vectorizer = CountVectorizer(max_features = 100)\n",
    "vectorizer.fit(list(train_df['Стемминг']))\n",
    "\n",
    "# Топ-10 слов\n",
    "vectorizer.get_feature_names_out()[:10]"
   ]
  },
  {
   "cell_type": "code",
   "execution_count": 33,
   "metadata": {},
   "outputs": [
    {
     "data": {
      "text/plain": [
       "matrix([[0, 0, 0, 0, 0, 0, 0, 0, 0, 0, 0, 0, 1, 0, 0, 1, 0, 0, 0, 0, 0,\n",
       "         0, 0, 1, 0, 0, 0, 0, 0, 0, 0, 0, 4, 2, 0, 0, 0, 0, 0, 0, 0, 0,\n",
       "         0, 0, 1, 0, 0, 1, 0, 1, 0, 0, 0, 0, 0, 0, 0, 0, 0, 0, 0, 0, 0,\n",
       "         0, 0, 0, 0, 0, 0, 0, 0, 0, 0, 1, 0, 0, 0, 0, 0, 0, 0, 0, 0, 0,\n",
       "         0, 0, 0, 2, 0, 0, 0, 0, 0, 0, 0, 0, 0, 0, 0, 0],\n",
       "        [0, 0, 0, 0, 0, 0, 0, 0, 0, 0, 0, 0, 0, 0, 1, 1, 0, 0, 0, 0, 0,\n",
       "         0, 0, 1, 0, 0, 0, 0, 0, 0, 0, 0, 1, 0, 0, 0, 0, 0, 1, 0, 0, 0,\n",
       "         0, 0, 0, 0, 0, 0, 0, 1, 0, 0, 0, 0, 0, 0, 0, 0, 0, 0, 0, 0, 0,\n",
       "         0, 0, 0, 0, 0, 0, 0, 0, 0, 0, 0, 1, 0, 0, 0, 0, 0, 0, 0, 0, 0,\n",
       "         0, 0, 0, 2, 0, 0, 0, 0, 0, 0, 0, 0, 0, 0, 0, 0]], dtype=int64)"
      ]
     },
     "execution_count": 33,
     "metadata": {},
     "output_type": "execute_result"
    }
   ],
   "source": [
    "# Обучаем vectorizer на train-данных и сразу преобразем их в вектора с помощью метода fit_transform\n",
    "stemming_train_X = vectorizer.transform(list(train_df['Стемминг']))\n",
    "stemming_train_X.todense()[:2]"
   ]
  },
  {
   "cell_type": "code",
   "execution_count": 34,
   "metadata": {},
   "outputs": [],
   "source": [
    "stemming_test_X = vectorizer.transform(list(test_df['Стемминг']))"
   ]
  },
  {
   "cell_type": "markdown",
   "metadata": {},
   "source": [
    "### 4.3.2 Лемматизация"
   ]
  },
  {
   "cell_type": "markdown",
   "metadata": {},
   "source": [
    "Построим пространство признаков на базе результатов номализации типа Лемматизация"
   ]
  },
  {
   "cell_type": "code",
   "execution_count": 35,
   "metadata": {},
   "outputs": [
    {
     "data": {
      "text/plain": [
       "array(['автор', 'аудиокнига', 'бестселлер', 'бизнес', 'быть', 'важный',\n",
       "       'ваш', 'весь', 'война', 'вопрос'], dtype=object)"
      ]
     },
     "execution_count": 35,
     "metadata": {},
     "output_type": "execute_result"
    }
   ],
   "source": [
    "#Инициализируем векторайзер\n",
    "from sklearn.feature_extraction.text import CountVectorizer\n",
    "vectorizer = CountVectorizer(max_features = 100)\n",
    "vectorizer.fit(list(train_df['Лемматизация']))\n",
    "\n",
    "# Топ-10 слов\n",
    "vectorizer.get_feature_names_out()[:10]"
   ]
  },
  {
   "cell_type": "code",
   "execution_count": 36,
   "metadata": {},
   "outputs": [
    {
     "data": {
      "text/plain": [
       "matrix([[0, 0, 0, 0, 0, 0, 0, 0, 0, 0, 1, 0, 0, 0, 0, 0, 0, 0, 0, 0, 0,\n",
       "         0, 1, 0, 0, 0, 0, 0, 0, 0, 0, 0, 0, 0, 4, 2, 0, 0, 0, 0, 0, 0,\n",
       "         0, 0, 1, 0, 0, 0, 1, 0, 0, 0, 0, 0, 0, 0, 0, 0, 0, 0, 0, 0, 0,\n",
       "         0, 0, 0, 0, 0, 0, 0, 0, 0, 0, 0, 0, 0, 1, 0, 0, 0, 0, 0, 0, 0,\n",
       "         0, 0, 0, 1, 0, 0, 0, 0, 0, 0, 0, 0, 0, 0, 0, 0],\n",
       "        [0, 0, 0, 0, 0, 0, 0, 0, 0, 0, 0, 1, 1, 0, 0, 0, 0, 0, 0, 1, 0,\n",
       "         0, 1, 0, 1, 0, 0, 0, 0, 0, 0, 0, 0, 0, 1, 0, 0, 0, 0, 1, 0, 0,\n",
       "         0, 0, 0, 0, 0, 0, 1, 0, 0, 0, 0, 0, 0, 0, 0, 0, 0, 0, 0, 0, 0,\n",
       "         0, 0, 0, 0, 0, 0, 0, 0, 0, 0, 0, 0, 0, 0, 0, 0, 0, 0, 0, 0, 0,\n",
       "         0, 0, 0, 2, 0, 0, 0, 0, 0, 0, 0, 0, 0, 0, 0, 0]], dtype=int64)"
      ]
     },
     "execution_count": 36,
     "metadata": {},
     "output_type": "execute_result"
    }
   ],
   "source": [
    "# Обучаем vectorizer на train-данных и сразу преобразем их в вектора с помощью метода fit_transform\n",
    "lemm_train_X = vectorizer.transform(list(train_df['Лемматизация']))\n",
    "lemm_train_X.todense()[:2]"
   ]
  },
  {
   "cell_type": "code",
   "execution_count": 37,
   "metadata": {},
   "outputs": [],
   "source": [
    "lemm_test_X = vectorizer.transform(list(test_df['Лемматизация']))"
   ]
  },
  {
   "cell_type": "markdown",
   "metadata": {},
   "source": [
    "### 4.3.3 Строим модель"
   ]
  },
  {
   "cell_type": "code",
   "execution_count": 17,
   "metadata": {},
   "outputs": [],
   "source": [
    "#import алгоритма из библиотеки\n",
    "from sklearn.ensemble import RandomForestRegressor\n",
    "\n",
    "def get_fit_predict(X_train, y_train, X_test, ):\n",
    "    # инициализируем модель\n",
    "    model = RandomForestRegressor(n_estimators = 1000)\n",
    "\n",
    "    # обучаем ее на тренировочных данных\n",
    "    model.fit(X_train, list(y_train))\n",
    "\n",
    "    # делаем предсказание для тестовых данных\n",
    "    pred = model.predict(X_test)\n",
    "    \n",
    "    return pred"
   ]
  },
  {
   "cell_type": "code",
   "execution_count": 18,
   "metadata": {},
   "outputs": [],
   "source": [
    "def mean_absolute_percentage_error(y_true, y_pred): \n",
    "    return np.mean(np.abs((y_true - y_pred) / y_true)) * 100"
   ]
  },
  {
   "cell_type": "markdown",
   "metadata": {},
   "source": [
    "#### a) Стемминг"
   ]
  },
  {
   "cell_type": "code",
   "execution_count": 19,
   "metadata": {},
   "outputs": [
    {
     "data": {
      "text/plain": [
       "6.98018838922464"
      ]
     },
     "execution_count": 19,
     "metadata": {},
     "output_type": "execute_result"
    }
   ],
   "source": [
    "pred = get_fit_predict(X_train=stemming_train_X,\n",
    "                       y_train=train_y,\n",
    "                       X_test=stemming_train_X)\n",
    "mean_absolute_percentage_error(train_y, pred)"
   ]
  },
  {
   "cell_type": "code",
   "execution_count": 20,
   "metadata": {},
   "outputs": [
    {
     "data": {
      "text/plain": [
       "18.75846459096269"
      ]
     },
     "execution_count": 20,
     "metadata": {},
     "output_type": "execute_result"
    }
   ],
   "source": [
    "pred = get_fit_predict(X_train=stemming_train_X,\n",
    "                       y_train=train_y,\n",
    "                       X_test=stemming_test_X)\n",
    "mean_absolute_percentage_error(test_y, pred)"
   ]
  },
  {
   "cell_type": "markdown",
   "metadata": {},
   "source": [
    "#### b)  Лемматизация"
   ]
  },
  {
   "cell_type": "code",
   "execution_count": 21,
   "metadata": {},
   "outputs": [
    {
     "data": {
      "text/plain": [
       "7.046540215570077"
      ]
     },
     "execution_count": 21,
     "metadata": {},
     "output_type": "execute_result"
    }
   ],
   "source": [
    "pred = get_fit_predict(X_train=lemm_train_X,\n",
    "                       y_train=train_y,\n",
    "                       X_test=lemm_train_X)\n",
    "mean_absolute_percentage_error(train_y, pred)"
   ]
  },
  {
   "cell_type": "code",
   "execution_count": 22,
   "metadata": {},
   "outputs": [
    {
     "data": {
      "text/plain": [
       "18.42057668347432"
      ]
     },
     "execution_count": 22,
     "metadata": {},
     "output_type": "execute_result"
    }
   ],
   "source": [
    "pred = get_fit_predict(X_train=lemm_train_X,\n",
    "                       y_train=train_y,\n",
    "                       X_test=lemm_test_X)\n",
    "mean_absolute_percentage_error(test_y, pred)"
   ]
  },
  {
   "cell_type": "markdown",
   "metadata": {},
   "source": [
    "## 4.4 Векторное представление TF-IDF"
   ]
  },
  {
   "cell_type": "markdown",
   "metadata": {},
   "source": [
    "Используем более сложный метод **TF-IDF** для преобразования текста в признаковое пространство для использования класических моделей ML"
   ]
  },
  {
   "cell_type": "markdown",
   "metadata": {},
   "source": [
    "### 4.4.1 Стемминг"
   ]
  },
  {
   "cell_type": "markdown",
   "metadata": {},
   "source": [
    "Построим пространство признаков на базе результатов номализации типа Стемминг"
   ]
  },
  {
   "cell_type": "code",
   "execution_count": 23,
   "metadata": {},
   "outputs": [
    {
     "data": {
      "text/plain": [
       "array(['автор', 'аудиокниг', 'бестселлер', 'бизнес', 'больш', 'будущ',\n",
       "       'важн', 'ваш', 'век', 'велик'], dtype=object)"
      ]
     },
     "execution_count": 23,
     "metadata": {},
     "output_type": "execute_result"
    }
   ],
   "source": [
    "#вычисляем tf-idf\n",
    "from sklearn.feature_extraction.text import TfidfVectorizer\n",
    "# Fit TF-IDF on train texts\n",
    "vectorizer = TfidfVectorizer(max_features = 200, norm = None) # возмем топ 200 слов\n",
    "vectorizer.fit(list(train_df['Стемминг']))\n",
    "\n",
    "# Топ-10 слов\n",
    "vectorizer.get_feature_names_out()[:10]"
   ]
  },
  {
   "cell_type": "code",
   "execution_count": 24,
   "metadata": {},
   "outputs": [],
   "source": [
    "# Обучаем TF-IDF на train, а затем применяем к train и test\n",
    "stemming_train_X = vectorizer.fit_transform(list(train_df['Стемминг']))\n",
    "stemming_test_X  = vectorizer.transform(list(test_df['Стемминг']))"
   ]
  },
  {
   "cell_type": "markdown",
   "metadata": {},
   "source": [
    "### 4.4.2 Лемматизация"
   ]
  },
  {
   "cell_type": "markdown",
   "metadata": {},
   "source": [
    "Построим пространство признаков на базе результатов номализации типа Лемматизация"
   ]
  },
  {
   "cell_type": "code",
   "execution_count": 25,
   "metadata": {},
   "outputs": [
    {
     "data": {
      "text/plain": [
       "array(['автор', 'аудиокнига', 'бестселлер', 'бизнес', 'будущее', 'быть',\n",
       "       'важный', 'ваш', 'век', 'великий'], dtype=object)"
      ]
     },
     "execution_count": 25,
     "metadata": {},
     "output_type": "execute_result"
    }
   ],
   "source": [
    "#вычисляем tf-idf\n",
    "from sklearn.feature_extraction.text import TfidfVectorizer\n",
    "# Fit TF-IDF on train texts\n",
    "vectorizer = TfidfVectorizer(max_features = 200, norm = None) # возмем топ 200 слов\n",
    "vectorizer.fit(list(train_df['Лемматизация']))\n",
    "\n",
    "# Топ-10 слов\n",
    "vectorizer.get_feature_names_out()[:10]"
   ]
  },
  {
   "cell_type": "code",
   "execution_count": 26,
   "metadata": {},
   "outputs": [],
   "source": [
    "# Обучаем TF-IDF на train, а затем применяем к train и test\n",
    "lemm_train_X = vectorizer.fit_transform(list(train_df['Лемматизация']))\n",
    "lemm_test_X  = vectorizer.transform(list(test_df['Лемматизация']))"
   ]
  },
  {
   "cell_type": "markdown",
   "metadata": {},
   "source": [
    "### 4.4.3 Строим модель"
   ]
  },
  {
   "cell_type": "markdown",
   "metadata": {},
   "source": [
    "#### a) Стемминг"
   ]
  },
  {
   "cell_type": "code",
   "execution_count": 27,
   "metadata": {},
   "outputs": [
    {
     "data": {
      "text/plain": [
       "6.869461431941472"
      ]
     },
     "execution_count": 27,
     "metadata": {},
     "output_type": "execute_result"
    }
   ],
   "source": [
    "pred = get_fit_predict(X_train=stemming_train_X,\n",
    "                       y_train=train_y,\n",
    "                       X_test=stemming_train_X)\n",
    "mean_absolute_percentage_error(train_y, pred)"
   ]
  },
  {
   "cell_type": "code",
   "execution_count": 28,
   "metadata": {},
   "outputs": [
    {
     "data": {
      "text/plain": [
       "18.454252801645165"
      ]
     },
     "execution_count": 28,
     "metadata": {},
     "output_type": "execute_result"
    }
   ],
   "source": [
    "pred = get_fit_predict(X_train=stemming_train_X,\n",
    "                       y_train=train_y,\n",
    "                       X_test=stemming_test_X)\n",
    "mean_absolute_percentage_error(test_y, pred)"
   ]
  },
  {
   "cell_type": "markdown",
   "metadata": {},
   "source": [
    "#### b) Лемматизация"
   ]
  },
  {
   "cell_type": "code",
   "execution_count": 29,
   "metadata": {},
   "outputs": [
    {
     "data": {
      "text/plain": [
       "6.770395882699337"
      ]
     },
     "execution_count": 29,
     "metadata": {},
     "output_type": "execute_result"
    }
   ],
   "source": [
    "pred = get_fit_predict(X_train=lemm_train_X,\n",
    "                       y_train=train_y,\n",
    "                       X_test=lemm_train_X)\n",
    "mean_absolute_percentage_error(train_y, pred)"
   ]
  },
  {
   "cell_type": "code",
   "execution_count": 30,
   "metadata": {},
   "outputs": [
    {
     "data": {
      "text/plain": [
       "17.804974948024682"
      ]
     },
     "execution_count": 30,
     "metadata": {},
     "output_type": "execute_result"
    }
   ],
   "source": [
    "pred = get_fit_predict(X_train=lemm_train_X,\n",
    "                       y_train=train_y,\n",
    "                       X_test=lemm_test_X)\n",
    "mean_absolute_percentage_error(test_y, pred)"
   ]
  },
  {
   "cell_type": "markdown",
   "metadata": {},
   "source": [
    "## 4.5 Поиск оптимальных парметров"
   ]
  },
  {
   "cell_type": "code",
   "execution_count": 80,
   "metadata": {},
   "outputs": [],
   "source": [
    "import optuna\n",
    "optuna.logging.set_verbosity(optuna.logging.ERROR)\n",
    "from sklearn.model_selection import cross_val_score"
   ]
  },
  {
   "cell_type": "code",
   "execution_count": 84,
   "metadata": {},
   "outputs": [],
   "source": [
    "def objective_RandomForest(trial):\n",
    "    parameters_grid = {\n",
    "        'criterion': trial.suggest_categorical('criterion', ['squared_error', 'absolute_error']),\n",
    "        'n_estimators': trial.suggest_int('n_estimators', low=1000, high=1000, step=1),\n",
    "        'max_samples': trial.suggest_categorical('max_samples', [None, 1.0, 0.5]),\n",
    "        'min_samples_leaf': trial.suggest_int('min_samples_leaf', low=1, high=20, step=1),\n",
    "        'min_samples_split': trial.suggest_int('min_samples_split', low=2, high=20, step=1),\n",
    "    }\n",
    "\n",
    "    model = RandomForestRegressor()\n",
    "    X_local = lemm_train_X.copy()\n",
    "    y_local = train_y.copy()\n",
    "\n",
    "    # CV предсказание вероятности\n",
    "    score = cross_val_score(model,\n",
    "                              X_local,\n",
    "                              y_local,\n",
    "                              cv=3, scoring='neg_mean_absolute_percentage_error').mean()\n",
    "\n",
    "    return score"
   ]
  },
  {
   "cell_type": "code",
   "execution_count": 85,
   "metadata": {},
   "outputs": [
    {
     "data": {
      "application/vnd.jupyter.widget-view+json": {
       "model_id": "b00cab84260a40fbb2abb053be7b1393",
       "version_major": 2,
       "version_minor": 0
      },
      "text/plain": [
       "  0%|          | 0/1 [00:00<?, ?it/s]"
      ]
     },
     "metadata": {},
     "output_type": "display_data"
    },
    {
     "name": "stdout",
     "output_type": "stream",
     "text": [
      "Перечень подобранных параметров:\n"
     ]
    },
    {
     "data": {
      "text/plain": [
       "{'criterion': 'absolute_error',\n",
       " 'n_estimators': 1000,\n",
       " 'max_samples': 1.0,\n",
       " 'min_samples_leaf': 3,\n",
       " 'min_samples_split': 13}"
      ]
     },
     "execution_count": 85,
     "metadata": {},
     "output_type": "execute_result"
    }
   ],
   "source": [
    "study = optuna.create_study(direction=\"maximize\")\n",
    "study.optimize(objective_RandomForest, n_trials=30, n_jobs=-1, show_progress_bar=True)\n",
    "\n",
    "print('Перечень подобранных параметров:')\n",
    "study.best_params"
   ]
  },
  {
   "cell_type": "code",
   "execution_count": 86,
   "metadata": {},
   "outputs": [
    {
     "data": {
      "text/plain": [
       "18.270316514422127"
      ]
     },
     "execution_count": 86,
     "metadata": {},
     "output_type": "execute_result"
    }
   ],
   "source": [
    "# инициализируем модель\n",
    "model = RandomForestRegressor(**study.best_params)\n",
    "# обучаем ее на тренировочных данных\n",
    "model.fit(lemm_train_X, list(train_y))\n",
    "# делаем предсказание для тестовых данных\n",
    "pred = model.predict(lemm_test_X)\n",
    "\n",
    "mean_absolute_percentage_error(test_y, pred)"
   ]
  },
  {
   "cell_type": "markdown",
   "metadata": {},
   "source": [
    "# Заключение"
   ]
  },
  {
   "cell_type": "markdown",
   "metadata": {},
   "source": [
    "В рамках работы:\n",
    " - Написан Парсер, с помощью которго была выгружена информация о книгах с сайта ЛитРес. Сформирован датасет.\n",
    " - Проведен обзорные EDA с приведеним данных к нужному формату;\n",
    " - Сформирован целевой признак из разных статистик, выгруженных с сайта.\n",
    " - Произведена токенизация и сформирован расширенный список стоп-слов из всех текстовых описаний.\n",
    " - Произведены два типа нормализации для дальнейшего сравнения.\n",
    " - Использованы два метода формирования признаково пространства и проведено моделирование обучающей и тестовой выборки для разных вариантов нормализации.\n",
    " \n",
    "Результаты моделирования:\n",
    " - Наилучшие результаты получили при: TF-IDF с нормализацией типа Лемматизация"
   ]
  }
 ],
 "metadata": {
  "colab": {
   "provenance": []
  },
  "kernelspec": {
   "display_name": "Python 3 (ipykernel)",
   "language": "python",
   "name": "python3"
  },
  "language_info": {
   "codemirror_mode": {
    "name": "ipython",
    "version": 3
   },
   "file_extension": ".py",
   "mimetype": "text/x-python",
   "name": "python",
   "nbconvert_exporter": "python",
   "pygments_lexer": "ipython3",
   "version": "3.10.5"
  },
  "varInspector": {
   "cols": {
    "lenName": 16,
    "lenType": 16,
    "lenVar": 40
   },
   "kernels_config": {
    "python": {
     "delete_cmd_postfix": "",
     "delete_cmd_prefix": "del ",
     "library": "var_list.py",
     "varRefreshCmd": "print(var_dic_list())"
    },
    "r": {
     "delete_cmd_postfix": ") ",
     "delete_cmd_prefix": "rm(",
     "library": "var_list.r",
     "varRefreshCmd": "cat(var_dic_list()) "
    }
   },
   "types_to_exclude": [
    "module",
    "function",
    "builtin_function_or_method",
    "instance",
    "_Feature"
   ],
   "window_display": false
  },
  "widgets": {
   "application/vnd.jupyter.widget-state+json": {
    "09cfb4b502814b4b81fdf93a837660ec": {
     "model_module": "@jupyter-widgets/controls",
     "model_module_version": "1.5.0",
     "model_name": "HBoxModel",
     "state": {
      "_dom_classes": [],
      "_model_module": "@jupyter-widgets/controls",
      "_model_module_version": "1.5.0",
      "_model_name": "HBoxModel",
      "_view_count": null,
      "_view_module": "@jupyter-widgets/controls",
      "_view_module_version": "1.5.0",
      "_view_name": "HBoxView",
      "box_style": "",
      "children": [
       "IPY_MODEL_ea9baf580f604208affdd0d051e34dd9",
       "IPY_MODEL_de4ef222413c405b8cb7d755eedc2150",
       "IPY_MODEL_256e77199e824cee94fba85b8fd00bf5"
      ],
      "layout": "IPY_MODEL_d9616528fee546ea8a3d066b953e5172"
     }
    },
    "256e77199e824cee94fba85b8fd00bf5": {
     "model_module": "@jupyter-widgets/controls",
     "model_module_version": "1.5.0",
     "model_name": "HTMLModel",
     "state": {
      "_dom_classes": [],
      "_model_module": "@jupyter-widgets/controls",
      "_model_module_version": "1.5.0",
      "_model_name": "HTMLModel",
      "_view_count": null,
      "_view_module": "@jupyter-widgets/controls",
      "_view_module_version": "1.5.0",
      "_view_name": "HTMLView",
      "description": "",
      "description_tooltip": null,
      "layout": "IPY_MODEL_89ebbe461ea84679acf11a58582fe51c",
      "placeholder": "​",
      "style": "IPY_MODEL_db0b1417eef04360b0f340be80bebe77",
      "value": " 16/16 [00:00&lt;00:00, 26.44it/s]"
     }
    },
    "5f4261b7a8eb46b7b21b4a1c2f909350": {
     "model_module": "@jupyter-widgets/controls",
     "model_module_version": "1.5.0",
     "model_name": "DescriptionStyleModel",
     "state": {
      "_model_module": "@jupyter-widgets/controls",
      "_model_module_version": "1.5.0",
      "_model_name": "DescriptionStyleModel",
      "_view_count": null,
      "_view_module": "@jupyter-widgets/base",
      "_view_module_version": "1.2.0",
      "_view_name": "StyleView",
      "description_width": ""
     }
    },
    "88e5a274dca146ee8025b32104f69d8b": {
     "model_module": "@jupyter-widgets/base",
     "model_module_version": "1.2.0",
     "model_name": "LayoutModel",
     "state": {
      "_model_module": "@jupyter-widgets/base",
      "_model_module_version": "1.2.0",
      "_model_name": "LayoutModel",
      "_view_count": null,
      "_view_module": "@jupyter-widgets/base",
      "_view_module_version": "1.2.0",
      "_view_name": "LayoutView",
      "align_content": null,
      "align_items": null,
      "align_self": null,
      "border": null,
      "bottom": null,
      "display": null,
      "flex": null,
      "flex_flow": null,
      "grid_area": null,
      "grid_auto_columns": null,
      "grid_auto_flow": null,
      "grid_auto_rows": null,
      "grid_column": null,
      "grid_gap": null,
      "grid_row": null,
      "grid_template_areas": null,
      "grid_template_columns": null,
      "grid_template_rows": null,
      "height": null,
      "justify_content": null,
      "justify_items": null,
      "left": null,
      "margin": null,
      "max_height": null,
      "max_width": null,
      "min_height": null,
      "min_width": null,
      "object_fit": null,
      "object_position": null,
      "order": null,
      "overflow": null,
      "overflow_x": null,
      "overflow_y": null,
      "padding": null,
      "right": null,
      "top": null,
      "visibility": null,
      "width": null
     }
    },
    "89ebbe461ea84679acf11a58582fe51c": {
     "model_module": "@jupyter-widgets/base",
     "model_module_version": "1.2.0",
     "model_name": "LayoutModel",
     "state": {
      "_model_module": "@jupyter-widgets/base",
      "_model_module_version": "1.2.0",
      "_model_name": "LayoutModel",
      "_view_count": null,
      "_view_module": "@jupyter-widgets/base",
      "_view_module_version": "1.2.0",
      "_view_name": "LayoutView",
      "align_content": null,
      "align_items": null,
      "align_self": null,
      "border": null,
      "bottom": null,
      "display": null,
      "flex": null,
      "flex_flow": null,
      "grid_area": null,
      "grid_auto_columns": null,
      "grid_auto_flow": null,
      "grid_auto_rows": null,
      "grid_column": null,
      "grid_gap": null,
      "grid_row": null,
      "grid_template_areas": null,
      "grid_template_columns": null,
      "grid_template_rows": null,
      "height": null,
      "justify_content": null,
      "justify_items": null,
      "left": null,
      "margin": null,
      "max_height": null,
      "max_width": null,
      "min_height": null,
      "min_width": null,
      "object_fit": null,
      "object_position": null,
      "order": null,
      "overflow": null,
      "overflow_x": null,
      "overflow_y": null,
      "padding": null,
      "right": null,
      "top": null,
      "visibility": null,
      "width": null
     }
    },
    "c79984b3b0a842efb76b3b7ad841484e": {
     "model_module": "@jupyter-widgets/controls",
     "model_module_version": "1.5.0",
     "model_name": "ProgressStyleModel",
     "state": {
      "_model_module": "@jupyter-widgets/controls",
      "_model_module_version": "1.5.0",
      "_model_name": "ProgressStyleModel",
      "_view_count": null,
      "_view_module": "@jupyter-widgets/base",
      "_view_module_version": "1.2.0",
      "_view_name": "StyleView",
      "bar_color": null,
      "description_width": ""
     }
    },
    "d9616528fee546ea8a3d066b953e5172": {
     "model_module": "@jupyter-widgets/base",
     "model_module_version": "1.2.0",
     "model_name": "LayoutModel",
     "state": {
      "_model_module": "@jupyter-widgets/base",
      "_model_module_version": "1.2.0",
      "_model_name": "LayoutModel",
      "_view_count": null,
      "_view_module": "@jupyter-widgets/base",
      "_view_module_version": "1.2.0",
      "_view_name": "LayoutView",
      "align_content": null,
      "align_items": null,
      "align_self": null,
      "border": null,
      "bottom": null,
      "display": null,
      "flex": null,
      "flex_flow": null,
      "grid_area": null,
      "grid_auto_columns": null,
      "grid_auto_flow": null,
      "grid_auto_rows": null,
      "grid_column": null,
      "grid_gap": null,
      "grid_row": null,
      "grid_template_areas": null,
      "grid_template_columns": null,
      "grid_template_rows": null,
      "height": null,
      "justify_content": null,
      "justify_items": null,
      "left": null,
      "margin": null,
      "max_height": null,
      "max_width": null,
      "min_height": null,
      "min_width": null,
      "object_fit": null,
      "object_position": null,
      "order": null,
      "overflow": null,
      "overflow_x": null,
      "overflow_y": null,
      "padding": null,
      "right": null,
      "top": null,
      "visibility": null,
      "width": null
     }
    },
    "db0b1417eef04360b0f340be80bebe77": {
     "model_module": "@jupyter-widgets/controls",
     "model_module_version": "1.5.0",
     "model_name": "DescriptionStyleModel",
     "state": {
      "_model_module": "@jupyter-widgets/controls",
      "_model_module_version": "1.5.0",
      "_model_name": "DescriptionStyleModel",
      "_view_count": null,
      "_view_module": "@jupyter-widgets/base",
      "_view_module_version": "1.2.0",
      "_view_name": "StyleView",
      "description_width": ""
     }
    },
    "de4ef222413c405b8cb7d755eedc2150": {
     "model_module": "@jupyter-widgets/controls",
     "model_module_version": "1.5.0",
     "model_name": "FloatProgressModel",
     "state": {
      "_dom_classes": [],
      "_model_module": "@jupyter-widgets/controls",
      "_model_module_version": "1.5.0",
      "_model_name": "FloatProgressModel",
      "_view_count": null,
      "_view_module": "@jupyter-widgets/controls",
      "_view_module_version": "1.5.0",
      "_view_name": "ProgressView",
      "bar_style": "success",
      "description": "",
      "description_tooltip": null,
      "layout": "IPY_MODEL_88e5a274dca146ee8025b32104f69d8b",
      "max": 16,
      "min": 0,
      "orientation": "horizontal",
      "style": "IPY_MODEL_c79984b3b0a842efb76b3b7ad841484e",
      "value": 16
     }
    },
    "ea9baf580f604208affdd0d051e34dd9": {
     "model_module": "@jupyter-widgets/controls",
     "model_module_version": "1.5.0",
     "model_name": "HTMLModel",
     "state": {
      "_dom_classes": [],
      "_model_module": "@jupyter-widgets/controls",
      "_model_module_version": "1.5.0",
      "_model_name": "HTMLModel",
      "_view_count": null,
      "_view_module": "@jupyter-widgets/controls",
      "_view_module_version": "1.5.0",
      "_view_name": "HTMLView",
      "description": "",
      "description_tooltip": null,
      "layout": "IPY_MODEL_f1880de7dbc34a6381681fb40e909f60",
      "placeholder": "​",
      "style": "IPY_MODEL_5f4261b7a8eb46b7b21b4a1c2f909350",
      "value": "100%"
     }
    },
    "f1880de7dbc34a6381681fb40e909f60": {
     "model_module": "@jupyter-widgets/base",
     "model_module_version": "1.2.0",
     "model_name": "LayoutModel",
     "state": {
      "_model_module": "@jupyter-widgets/base",
      "_model_module_version": "1.2.0",
      "_model_name": "LayoutModel",
      "_view_count": null,
      "_view_module": "@jupyter-widgets/base",
      "_view_module_version": "1.2.0",
      "_view_name": "LayoutView",
      "align_content": null,
      "align_items": null,
      "align_self": null,
      "border": null,
      "bottom": null,
      "display": null,
      "flex": null,
      "flex_flow": null,
      "grid_area": null,
      "grid_auto_columns": null,
      "grid_auto_flow": null,
      "grid_auto_rows": null,
      "grid_column": null,
      "grid_gap": null,
      "grid_row": null,
      "grid_template_areas": null,
      "grid_template_columns": null,
      "grid_template_rows": null,
      "height": null,
      "justify_content": null,
      "justify_items": null,
      "left": null,
      "margin": null,
      "max_height": null,
      "max_width": null,
      "min_height": null,
      "min_width": null,
      "object_fit": null,
      "object_position": null,
      "order": null,
      "overflow": null,
      "overflow_x": null,
      "overflow_y": null,
      "padding": null,
      "right": null,
      "top": null,
      "visibility": null,
      "width": null
     }
    }
   }
  }
 },
 "nbformat": 4,
 "nbformat_minor": 1
}
